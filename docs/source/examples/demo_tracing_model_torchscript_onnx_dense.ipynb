{
 "cells": [
  {
   "cell_type": "markdown",
   "id": "fba4c02d",
   "metadata": {},
   "source": [
    "# Demo Notebook to trace Sentence Transformers model\n",
    "\n",
    "#### [Download notebook](https://github.com/opensearch-project/opensearch-py-ml/blob/main/docs/source/examples/demo_tracing_model_torchscript_onnx.ipynb)\n",
    "\n",
    "This notebook provides a walkthrough guidance for users to trace models from Sentence Transformers in torchScript and onnx format. After tracing the model, customers can register the model to opensearch and generate embeddings.\n",
    "\n",
    "Remember, tracing model in torchScript or Onnx format at just two different options. We don't need to trace model in both ways. Here in our notebook we just want to show both ways. \n",
    "\n",
    "Step 0: Import packages and set up client\n",
    "\n",
    "Step 1: Save model in torchScript format\n",
    "\n",
    "Step 2: Register the saved torchScript model in Opensearch\n",
    "\n",
    "[The following steps are optional, just showing registering model in both ways and comparing the both embedding output]\n",
    "\n",
    "Step 3: Save model in Onnx format \n",
    "\n",
    "Step 4: Register the saved Onnx model in Opensearch\n",
    "\n",
    "Step 5: Generate Sentence Embedding with registered models\n",
    "\n",
    "\n"
   ]
  },
  {
   "cell_type": "markdown",
   "id": "7011727e",
   "metadata": {},
   "source": [
    "## Step 0: Import packages and set up client\n",
    "Install required packages for opensearch_py_ml.sentence_transformer_model\n",
    "Install `opensearchpy` and `opensearch-py-ml` through pypi\n"
   ]
  },
  {
   "cell_type": "code",
   "execution_count": 1,
   "id": "17a3e085",
   "metadata": {
    "scrolled": true
   },
   "outputs": [],
   "source": [
    "#!pip install opensearch-py opensearch-py-ml\n",
    "\n",
    "import os\n",
    "import sys\n",
    "sys.path.append(os.path.abspath(os.path.join('../../..')))"
   ]
  },
  {
   "cell_type": "code",
   "execution_count": 2,
   "id": "d0c711bf",
   "metadata": {
    "pycharm": {
     "name": "#%%\n"
    }
   },
   "outputs": [
    {
     "name": "stderr",
     "output_type": "stream",
     "text": [
      "/home/linuxbrew/.linuxbrew/opt/python@3.8/lib/python3.8/site-packages/tqdm/auto.py:21: TqdmWarning: IProgress not found. Please update jupyter and ipywidgets. See https://ipywidgets.readthedocs.io/en/stable/user_install.html\n",
      "  from .autonotebook import tqdm as notebook_tqdm\n"
     ]
    }
   ],
   "source": [
    "import warnings\n",
    "warnings.filterwarnings('ignore', category=DeprecationWarning)\n",
    "warnings.filterwarnings('ignore', category=FutureWarning)\n",
    "warnings.filterwarnings(\"ignore\", message=\"Unverified HTTPS request\")\n",
    "warnings.filterwarnings(\"ignore\", message=\"TracerWarning: torch.tensor\")\n",
    "warnings.filterwarnings(\"ignore\", message=\"using SSL with verify_certs=False is insecure.\")\n",
    "\n",
    "import opensearch_py_ml as oml\n",
    "from opensearchpy import OpenSearch\n",
    "from opensearch_py_ml.ml_models import SentenceTransformerModel\n",
    "# import mlcommon to later register the model to OpenSearch Cluster\n",
    "from opensearch_py_ml.ml_commons import MLCommonClient"
   ]
  },
  {
   "cell_type": "code",
   "execution_count": 3,
   "id": "5c85ae17",
   "metadata": {},
   "outputs": [],
   "source": [
    "CLUSTER_URL = 'https://localhost:9200'"
   ]
  },
  {
   "cell_type": "code",
   "execution_count": 4,
   "id": "77442abf",
   "metadata": {},
   "outputs": [],
   "source": [
    "def get_os_client(cluster_url = CLUSTER_URL,\n",
    "                  username='admin',\n",
    "                  password='admin'):\n",
    "    '''\n",
    "    Get OpenSearch client\n",
    "    :param cluster_url: cluster URL like https://ml-te-netwo-1s12ba42br23v-ff1736fa7db98ff2.elb.us-west-2.amazonaws.com:443\n",
    "    :return: OpenSearch client\n",
    "    '''\n",
    "    client = OpenSearch(\n",
    "        hosts=[cluster_url],\n",
    "        http_auth=(username, password),\n",
    "        verify_certs=False\n",
    "    )\n",
    "    return client "
   ]
  },
  {
   "cell_type": "code",
   "execution_count": 5,
   "id": "89e1cb2a",
   "metadata": {},
   "outputs": [
    {
     "name": "stderr",
     "output_type": "stream",
     "text": [
      "/home/linuxbrew/.linuxbrew/opt/python@3.8/lib/python3.8/site-packages/opensearchpy/connection/http_urllib3.py:199: UserWarning: Connecting to https://localhost:9200 using SSL with verify_certs=False is insecure.\n",
      "  warnings.warn(\n"
     ]
    }
   ],
   "source": [
    "client = get_os_client()\n",
    "\n",
    "# Connect to ml_common client with OpenSearch client\n",
    "ml_client = MLCommonClient(client)"
   ]
  },
  {
   "cell_type": "markdown",
   "id": "4da9e0de",
   "metadata": {},
   "source": [
    "## Step 1: Save model in torchScript format\n",
    "\n",
    "`Opensearch-py-ml` plugin provides method `save_as_pt` which will trace a model in torchScript format and save the model in a zip file in your filesystem. \n",
    "\n",
    "Detailed documentation: https://opensearch-project.github.io/opensearch-py-ml/reference/api/sentence_transformer.save_as_pt.html#opensearch_py_ml.ml_models.SentenceTransformerModel.save_as_pt\n",
    "\n",
    "\n",
    "Users need to provide a model id from sentence transformers (an example: `sentence-transformers/msmarco-distilbert-base-tas-b`). This model id is a huggingface model id. Exaample: https://huggingface.co/sentence-transformers/msmarco-distilbert-base-tas-b\n",
    "\n",
    "`save_as_pt` will download the model in filesystem and then trace the model with the given input strings.\n",
    "\n",
    "To get more direction about dummy input string please check this url: https://huggingface.co/docs/transformers/torchscript#dummy-inputs-and-standard-lengths\n",
    "\n",
    "after tracing the model (a .pt file will be generated), `save_as_pt` method zips `tokenizers.json` and torchScript (`.pt`) file and saves in the file system. \n",
    "\n",
    "User can register that model to opensearch to generate embedding."
   ]
  },
  {
   "cell_type": "code",
   "execution_count": 6,
   "id": "c7b0ff7e",
   "metadata": {
    "scrolled": true
   },
   "outputs": [
    {
     "name": "stderr",
     "output_type": "stream",
     "text": [
      "/home/linuxbrew/.linuxbrew/opt/python@3.8/lib/python3.8/site-packages/transformers/models/distilbert/modeling_distilbert.py:223: TracerWarning: torch.tensor results are registered as constants in the trace. You can safely ignore this warning if you use this function to create tensors out of constant variables that would be the same every time you call this function. In any other case, this might cause the trace to be incorrect.\n",
      "  mask, torch.tensor(torch.finfo(scores.dtype).min)\n"
     ]
    },
    {
     "name": "stdout",
     "output_type": "stream",
     "text": [
      "model file is saved to  sentence-transformers-torchscript/distiluse-base-multilingual-cased-v1/distiluse-base-multilingual-cased-v1.pt\n",
      "zip file is saved to  sentence-transformers-torchscript/distiluse-base-multilingual-cased-v1/distiluse-base-multilingual-cased-v1.zip \n",
      "\n"
     ]
    }
   ],
   "source": [
    "model_id=\"sentence-transformers/distiluse-base-multilingual-cased-v1\"\n",
    "pre_trained_model = SentenceTransformerModel(model_id=model_id, folder_path='sentence-transformers-torchscript/distiluse-base-multilingual-cased-v1', overwrite=True)\n",
    "model_path = pre_trained_model.save_as_pt(model_id=model_id, sentences=[\"for example providing a small sentence\", \"we can add multiple sentences\"])"
   ]
  },
  {
   "cell_type": "code",
   "execution_count": 7,
   "id": "ef8699ce",
   "metadata": {},
   "outputs": [
    {
     "name": "stdout",
     "output_type": "stream",
     "text": [
      "ml-commons_model_config.json file is saved at :  sentence-transformers-torchscript/distiluse-base-multilingual-cased-v1/ml-commons_model_config.json\n"
     ]
    },
    {
     "data": {
      "text/plain": [
       "'sentence-transformers-torchscript/distiluse-base-multilingual-cased-v1/ml-commons_model_config.json'"
      ]
     },
     "execution_count": 7,
     "metadata": {},
     "output_type": "execute_result"
    }
   ],
   "source": [
    "pre_trained_model.make_model_config_json(model_format=\"TORCH_SCRIPT\")"
   ]
  },
  {
   "cell_type": "markdown",
   "id": "9c3b7cbd",
   "metadata": {},
   "source": [
    "## Step 2: Register the saved torchScript model in Opensearch\n",
    "\n",
    "In the last step we saved a sentence transformer model in torchScript format. Now we will register that model in opensearch cluster. To do that we can take help of `register_model` method in `opensearch-py-ml` plugin.\n",
    "\n",
    "To register model, we need the zip file we just saved in the last step and a model config file. Example of Model config file content can be:\n",
    "\n",
    "{\n",
    "  \"name\": \"sentence-transformers/msmarco-distilbert-base-tas-b\",\n",
    "  \"version\": \"1.0.0\",\n",
    "  \"description\": \"This is a port of the DistilBert TAS-B Model to sentence-transformers model: It maps sentences & paragraphs to a 768 dimensional dense vector space and is optimized for the task of semantic search.\",\n",
    "  \"model_format\": \"TORCH_SCRIPT\",\n",
    "  \"model_config\": {\n",
    "    \"model_type\": \"distilbert\",\n",
    "    \"embedding_dimension\": 768,\n",
    "    \"framework_type\": \"sentence_transformers\"\n",
    "  }\n",
    "}\n",
    "\n",
    "\n",
    "`model_format` needs to be `TORCH_SCRIPT` so that internal system will look for the corresponding `.pt` file from the zip folder. \n",
    "\n",
    "Please refer to this doc: https://github.com/opensearch-project/ml-commons/blob/2.x/docs/model_serving_framework/text_embedding_model_examples.md\n",
    "\n",
    "\n",
    "Documentation for the method: https://opensearch-project.github.io/opensearch-py-ml/reference/api/ml_commons_register_api.html#opensearch_py_ml.ml_commons.MLCommonClient.register_model\n",
    "\n",
    "Related demo notebook about ml-commons plugin integration: https://opensearch-project.github.io/opensearch-py-ml/examples/demo_ml_commons_integration.html\n",
    "\n"
   ]
  },
  {
   "cell_type": "code",
   "execution_count": 8,
   "id": "28e9310c",
   "metadata": {
    "scrolled": true
   },
   "outputs": [
    {
     "name": "stdout",
     "output_type": "stream",
     "text": [
      "Total number of chunks 55\n",
      "Sha1 value of the model file:  f08ebf66fa0ec9070e829df17acd8e259ac4ea44a2c89f8dcbcc729b55579e12\n",
      "Model meta data was created successfully. Model Id:  WJL35okBqzTvNQeAJljO\n",
      "uploading chunk 1 of 55\n",
      "Model id: {'status': 'Uploaded'}\n",
      "uploading chunk 2 of 55\n",
      "Model id: {'status': 'Uploaded'}\n",
      "uploading chunk 3 of 55\n",
      "Model id: {'status': 'Uploaded'}\n",
      "uploading chunk 4 of 55\n",
      "Model id: {'status': 'Uploaded'}\n",
      "uploading chunk 5 of 55\n",
      "Model id: {'status': 'Uploaded'}\n",
      "uploading chunk 6 of 55\n",
      "Model id: {'status': 'Uploaded'}\n",
      "uploading chunk 7 of 55\n",
      "Model id: {'status': 'Uploaded'}\n",
      "uploading chunk 8 of 55\n",
      "Model id: {'status': 'Uploaded'}\n",
      "uploading chunk 9 of 55\n",
      "Model id: {'status': 'Uploaded'}\n",
      "uploading chunk 10 of 55\n",
      "Model id: {'status': 'Uploaded'}\n",
      "uploading chunk 11 of 55\n",
      "Model id: {'status': 'Uploaded'}\n",
      "uploading chunk 12 of 55\n",
      "Model id: {'status': 'Uploaded'}\n",
      "uploading chunk 13 of 55\n",
      "Model id: {'status': 'Uploaded'}\n",
      "uploading chunk 14 of 55\n",
      "Model id: {'status': 'Uploaded'}\n",
      "uploading chunk 15 of 55\n",
      "Model id: {'status': 'Uploaded'}\n",
      "uploading chunk 16 of 55\n",
      "Model id: {'status': 'Uploaded'}\n",
      "uploading chunk 17 of 55\n",
      "Model id: {'status': 'Uploaded'}\n",
      "uploading chunk 18 of 55\n",
      "Model id: {'status': 'Uploaded'}\n",
      "uploading chunk 19 of 55\n",
      "Model id: {'status': 'Uploaded'}\n",
      "uploading chunk 20 of 55\n",
      "Model id: {'status': 'Uploaded'}\n",
      "uploading chunk 21 of 55\n",
      "Model id: {'status': 'Uploaded'}\n",
      "uploading chunk 22 of 55\n",
      "Model id: {'status': 'Uploaded'}\n",
      "uploading chunk 23 of 55\n",
      "Model id: {'status': 'Uploaded'}\n",
      "uploading chunk 24 of 55\n",
      "Model id: {'status': 'Uploaded'}\n",
      "uploading chunk 25 of 55\n",
      "Model id: {'status': 'Uploaded'}\n",
      "uploading chunk 26 of 55\n",
      "Model id: {'status': 'Uploaded'}\n",
      "uploading chunk 27 of 55\n",
      "Model id: {'status': 'Uploaded'}\n",
      "uploading chunk 28 of 55\n",
      "Model id: {'status': 'Uploaded'}\n",
      "uploading chunk 29 of 55\n",
      "Model id: {'status': 'Uploaded'}\n",
      "uploading chunk 30 of 55\n",
      "Model id: {'status': 'Uploaded'}\n",
      "uploading chunk 31 of 55\n",
      "Model id: {'status': 'Uploaded'}\n",
      "uploading chunk 32 of 55\n",
      "Model id: {'status': 'Uploaded'}\n",
      "uploading chunk 33 of 55\n",
      "Model id: {'status': 'Uploaded'}\n",
      "uploading chunk 34 of 55\n",
      "Model id: {'status': 'Uploaded'}\n",
      "uploading chunk 35 of 55\n",
      "Model id: {'status': 'Uploaded'}\n",
      "uploading chunk 36 of 55\n",
      "Model id: {'status': 'Uploaded'}\n",
      "uploading chunk 37 of 55\n",
      "Model id: {'status': 'Uploaded'}\n",
      "uploading chunk 38 of 55\n",
      "Model id: {'status': 'Uploaded'}\n",
      "uploading chunk 39 of 55\n",
      "Model id: {'status': 'Uploaded'}\n",
      "uploading chunk 40 of 55\n",
      "Model id: {'status': 'Uploaded'}\n",
      "uploading chunk 41 of 55\n",
      "Model id: {'status': 'Uploaded'}\n",
      "uploading chunk 42 of 55\n",
      "Model id: {'status': 'Uploaded'}\n",
      "uploading chunk 43 of 55\n",
      "Model id: {'status': 'Uploaded'}\n",
      "uploading chunk 44 of 55\n",
      "Model id: {'status': 'Uploaded'}\n",
      "uploading chunk 45 of 55\n",
      "Model id: {'status': 'Uploaded'}\n",
      "uploading chunk 46 of 55\n",
      "Model id: {'status': 'Uploaded'}\n",
      "uploading chunk 47 of 55\n",
      "Model id: {'status': 'Uploaded'}\n",
      "uploading chunk 48 of 55\n",
      "Model id: {'status': 'Uploaded'}\n",
      "uploading chunk 49 of 55\n",
      "Model id: {'status': 'Uploaded'}\n",
      "uploading chunk 50 of 55\n",
      "Model id: {'status': 'Uploaded'}\n",
      "uploading chunk 51 of 55\n",
      "Model id: {'status': 'Uploaded'}\n",
      "uploading chunk 52 of 55\n",
      "Model id: {'status': 'Uploaded'}\n",
      "uploading chunk 53 of 55\n",
      "Model id: {'status': 'Uploaded'}\n",
      "uploading chunk 54 of 55\n",
      "Model id: {'status': 'Uploaded'}\n",
      "uploading chunk 55 of 55\n",
      "Model id: {'status': 'Uploaded'}\n",
      "Model registered successfully\n",
      "Task ID: WZL35okBqzTvNQeAgVhf\n",
      "Model deployed successfully\n"
     ]
    },
    {
     "data": {
      "text/plain": [
       "'WJL35okBqzTvNQeAJljO'"
      ]
     },
     "execution_count": 8,
     "metadata": {},
     "output_type": "execute_result"
    }
   ],
   "source": [
    "model_config_path_torch = 'sentence-transformers-torchscript/distiluse-base-multilingual-cased-v1/ml-commons_model_config.json'\n",
    "ml_client.register_model(model_path, model_config_path_torch, isVerbose=True)"
   ]
  },
  {
   "cell_type": "markdown",
   "id": "34ee235b",
   "metadata": {},
   "source": [
    "## Step 3: Save model in Onnx format\n",
    "\n",
    "`Opensearch-py-ml` plugin provides method `save_as_onnx` which will trace a model in ONNX format and save the model in a zip file in your filesystem. \n",
    "\n",
    "Detailed documentation: https://opensearch-project.github.io/opensearch-py-ml/reference/api/sentence_transformer.save_as_onnx.html#opensearch_py_ml.ml_models.SentenceTransformerModel.save_as_onnx\n",
    "\n",
    "\n",
    "Users need to provide a model id from sentence transformers (an example: `sentence-transformers/msmarco-distilbert-base-tas-b`). `save_as_onnx` will download the model in filesystem and then trace the model.\n",
    "\n",
    "after tracing the model (a .onnx file will be generated), `save_as_onnx` method zips `tokenizers.json` and torchScript (`.onnx`) file and saves in the file system. \n",
    "\n",
    "User can register that model to opensearch to generate embedding.\n"
   ]
  },
  {
   "cell_type": "code",
   "execution_count": 9,
   "id": "44d6b1d2",
   "metadata": {},
   "outputs": [
    {
     "name": "stdout",
     "output_type": "stream",
     "text": [
      "ONNX opset version set to: 15\n",
      "Loading pipeline (model: sentence-transformers/distiluse-base-multilingual-cased-v1, tokenizer: sentence-transformers/distiluse-base-multilingual-cased-v1)\n",
      "Creating folder sentence-transformers-onxx/distiluse-base-multilingual-cased-v1/onnx\n",
      "Using framework PyTorch: 1.13.1+cu117\n",
      "Found input input_ids with shape: {0: 'batch', 1: 'sequence'}\n",
      "Found input attention_mask with shape: {0: 'batch', 1: 'sequence'}\n",
      "Found output output_0 with shape: {0: 'batch', 1: 'sequence'}\n",
      "Ensuring inputs are in correct order\n",
      "head_mask is not present in the generated input list.\n",
      "Generated inputs order: ['input_ids', 'attention_mask']\n",
      "model file is saved to  sentence-transformers-onxx/distiluse-base-multilingual-cased-v1/onnx/distiluse-base-multilingual-cased-v1.onnx\n",
      "zip file is saved to  sentence-transformers-onxx/distiluse-base-multilingual-cased-v1/distiluse-base-multilingual-cased-v1.zip \n",
      "\n"
     ]
    }
   ],
   "source": [
    "pre_trained_model = SentenceTransformerModel(model_id=model_id, folder_path='sentence-transformers-onxx/distiluse-base-multilingual-cased-v1', overwrite=True)\n",
    "model_path_onnx = pre_trained_model.save_as_onnx(model_id=model_id)"
   ]
  },
  {
   "cell_type": "code",
   "execution_count": 10,
   "id": "1a56eb18",
   "metadata": {},
   "outputs": [
    {
     "name": "stdout",
     "output_type": "stream",
     "text": [
      "ml-commons_model_config.json file is saved at :  sentence-transformers-onxx/distiluse-base-multilingual-cased-v1/ml-commons_model_config.json\n"
     ]
    },
    {
     "data": {
      "text/plain": [
       "'sentence-transformers-onxx/distiluse-base-multilingual-cased-v1/ml-commons_model_config.json'"
      ]
     },
     "execution_count": 10,
     "metadata": {},
     "output_type": "execute_result"
    }
   ],
   "source": [
    "pre_trained_model.make_model_config_json(model_format=\"ONNX\")"
   ]
  },
  {
   "cell_type": "markdown",
   "id": "97ed5665",
   "metadata": {},
   "source": [
    "## Step 4: Register the saved Onnx model in Opensearch\n",
    "\n",
    "In the last step we saved a sentence transformer model in ONNX format. Now we will register that model in opensearch cluster. To do that we can take help of `register_model` method in `opensearch-py-ml` plugin.\n",
    "\n",
    "To register model, we need the zip file we just saved in the last step and a model config file. Example of Model config file content can be:\n",
    "\n",
    "{\n",
    "  \"name\": \"sentence-transformers/msmarco-distilbert-base-tas-b\",\n",
    "  \"version\": \"1.0.0\",\n",
    "  \"description\": \"This is a port of the DistilBert TAS-B Model to sentence-transformers model: It maps sentences & paragraphs to a 768 dimensional dense vector space and is optimized for the task of semantic search.\",\n",
    "  \"model_format\": \"ONNX\",\n",
    "  \"model_config\": {\n",
    "    \"model_type\": \"distilbert\",\n",
    "    \"embedding_dimension\": 768,\n",
    "    \"framework_type\": \"sentence_transformers\",\n",
    "    \"pooling_mode\":\"cls\",\n",
    "    \"normalize_result\":\"false\"\n",
    "  }\n",
    "}\n",
    "\n",
    "`model_format` needs to be `ONNX` so that internal system will look for the corresponding `.onnx` file from the zip folder.\n",
    "\n",
    "Please refer to this doc: https://github.com/opensearch-project/ml-commons/blob/2.x/docs/model_serving_framework/text_embedding_model_examples.md\n",
    "\n",
    "\n",
    "Documentation for the method: https://opensearch-project.github.io/opensearch-py-ml/reference/api/ml_commons_register_api.html#opensearch_py_ml.ml_commons.MLCommonClient.register_model\n",
    "\n",
    "Related demo notebook about ml-commons plugin integration: https://opensearch-project.github.io/opensearch-py-ml/examples/demo_ml_commons_integration.html"
   ]
  },
  {
   "cell_type": "code",
   "execution_count": 11,
   "id": "661c3f46",
   "metadata": {},
   "outputs": [
    {
     "name": "stdout",
     "output_type": "stream",
     "text": [
      "Total number of chunks 55\n",
      "Sha1 value of the model file:  8417194dd20c695424cbb3152bc049c534c61043964d197e458c8d6191ed5c05\n",
      "Model meta data was created successfully. Model Id:  WpL35okBqzTvNQeA6Vit\n",
      "uploading chunk 1 of 55\n",
      "Model id: {'status': 'Uploaded'}\n",
      "uploading chunk 2 of 55\n",
      "Model id: {'status': 'Uploaded'}\n",
      "uploading chunk 3 of 55\n",
      "Model id: {'status': 'Uploaded'}\n",
      "uploading chunk 4 of 55\n",
      "Model id: {'status': 'Uploaded'}\n",
      "uploading chunk 5 of 55\n",
      "Model id: {'status': 'Uploaded'}\n",
      "uploading chunk 6 of 55\n",
      "Model id: {'status': 'Uploaded'}\n",
      "uploading chunk 7 of 55\n",
      "Model id: {'status': 'Uploaded'}\n",
      "uploading chunk 8 of 55\n",
      "Model id: {'status': 'Uploaded'}\n",
      "uploading chunk 9 of 55\n",
      "Model id: {'status': 'Uploaded'}\n",
      "uploading chunk 10 of 55\n",
      "Model id: {'status': 'Uploaded'}\n",
      "uploading chunk 11 of 55\n",
      "Model id: {'status': 'Uploaded'}\n",
      "uploading chunk 12 of 55\n",
      "Model id: {'status': 'Uploaded'}\n",
      "uploading chunk 13 of 55\n",
      "Model id: {'status': 'Uploaded'}\n",
      "uploading chunk 14 of 55\n",
      "Model id: {'status': 'Uploaded'}\n",
      "uploading chunk 15 of 55\n",
      "Model id: {'status': 'Uploaded'}\n",
      "uploading chunk 16 of 55\n",
      "Model id: {'status': 'Uploaded'}\n",
      "uploading chunk 17 of 55\n",
      "Model id: {'status': 'Uploaded'}\n",
      "uploading chunk 18 of 55\n",
      "Model id: {'status': 'Uploaded'}\n",
      "uploading chunk 19 of 55\n",
      "Model id: {'status': 'Uploaded'}\n",
      "uploading chunk 20 of 55\n",
      "Model id: {'status': 'Uploaded'}\n",
      "uploading chunk 21 of 55\n",
      "Model id: {'status': 'Uploaded'}\n",
      "uploading chunk 22 of 55\n",
      "Model id: {'status': 'Uploaded'}\n",
      "uploading chunk 23 of 55\n",
      "Model id: {'status': 'Uploaded'}\n",
      "uploading chunk 24 of 55\n",
      "Model id: {'status': 'Uploaded'}\n",
      "uploading chunk 25 of 55\n",
      "Model id: {'status': 'Uploaded'}\n",
      "uploading chunk 26 of 55\n",
      "Model id: {'status': 'Uploaded'}\n",
      "uploading chunk 27 of 55\n",
      "Model id: {'status': 'Uploaded'}\n",
      "uploading chunk 28 of 55\n",
      "Model id: {'status': 'Uploaded'}\n",
      "uploading chunk 29 of 55\n",
      "Model id: {'status': 'Uploaded'}\n",
      "uploading chunk 30 of 55\n",
      "Model id: {'status': 'Uploaded'}\n",
      "uploading chunk 31 of 55\n",
      "Model id: {'status': 'Uploaded'}\n",
      "uploading chunk 32 of 55\n",
      "Model id: {'status': 'Uploaded'}\n",
      "uploading chunk 33 of 55\n",
      "Model id: {'status': 'Uploaded'}\n",
      "uploading chunk 34 of 55\n",
      "Model id: {'status': 'Uploaded'}\n",
      "uploading chunk 35 of 55\n",
      "Model id: {'status': 'Uploaded'}\n",
      "uploading chunk 36 of 55\n",
      "Model id: {'status': 'Uploaded'}\n",
      "uploading chunk 37 of 55\n",
      "Model id: {'status': 'Uploaded'}\n",
      "uploading chunk 38 of 55\n",
      "Model id: {'status': 'Uploaded'}\n",
      "uploading chunk 39 of 55\n",
      "Model id: {'status': 'Uploaded'}\n",
      "uploading chunk 40 of 55\n",
      "Model id: {'status': 'Uploaded'}\n",
      "uploading chunk 41 of 55\n",
      "Model id: {'status': 'Uploaded'}\n",
      "uploading chunk 42 of 55\n",
      "Model id: {'status': 'Uploaded'}\n",
      "uploading chunk 43 of 55\n",
      "Model id: {'status': 'Uploaded'}\n",
      "uploading chunk 44 of 55\n",
      "Model id: {'status': 'Uploaded'}\n",
      "uploading chunk 45 of 55\n",
      "Model id: {'status': 'Uploaded'}\n",
      "uploading chunk 46 of 55\n",
      "Model id: {'status': 'Uploaded'}\n",
      "uploading chunk 47 of 55\n",
      "Model id: {'status': 'Uploaded'}\n",
      "uploading chunk 48 of 55\n",
      "Model id: {'status': 'Uploaded'}\n",
      "uploading chunk 49 of 55\n",
      "Model id: {'status': 'Uploaded'}\n",
      "uploading chunk 50 of 55\n",
      "Model id: {'status': 'Uploaded'}\n",
      "uploading chunk 51 of 55\n",
      "Model id: {'status': 'Uploaded'}\n",
      "uploading chunk 52 of 55\n",
      "Model id: {'status': 'Uploaded'}\n",
      "uploading chunk 53 of 55\n",
      "Model id: {'status': 'Uploaded'}\n",
      "uploading chunk 54 of 55\n",
      "Model id: {'status': 'Uploaded'}\n",
      "uploading chunk 55 of 55\n",
      "Model id: {'status': 'Uploaded'}\n",
      "Model registered successfully\n",
      "Task ID: W5L45okBqzTvNQeAPFh-\n",
      "Model deployed successfully\n"
     ]
    },
    {
     "data": {
      "text/plain": [
       "'WpL35okBqzTvNQeA6Vit'"
      ]
     },
     "execution_count": 11,
     "metadata": {},
     "output_type": "execute_result"
    }
   ],
   "source": [
    "model_config_path_onnx = 'sentence-transformers-onxx/distiluse-base-multilingual-cased-v1/ml-commons_model_config.json'\n",
    "ml_client.register_model(model_path_onnx, model_config_path_onnx, isVerbose=True)"
   ]
  },
  {
   "cell_type": "markdown",
   "id": "ba1e9115",
   "metadata": {},
   "source": [
    "## Step 5: See Model Information"
   ]
  },
  {
   "cell_type": "code",
   "execution_count": 12,
   "id": "09dc3029",
   "metadata": {},
   "outputs": [
    {
     "data": {
      "text/plain": [
       "{'name': 'sentence-transformers/distiluse-base-multilingual-cased-v1',\n",
       " 'algorithm': 'TEXT_EMBEDDING',\n",
       " 'model_version': '1',\n",
       " 'model_format': 'TORCH_SCRIPT',\n",
       " 'model_state': 'DEPLOYED',\n",
       " 'model_content_size_in_bytes': 544326263,\n",
       " 'model_content_hash_value': 'f08ebf66fa0ec9070e829df17acd8e259ac4ea44a2c89f8dcbcc729b55579e12',\n",
       " 'model_config': {'model_type': 'distilbert',\n",
       "  'embedding_dimension': 512,\n",
       "  'framework_type': 'SENTENCE_TRANSFORMERS',\n",
       "  'all_config': '{\"_name_or_path\": \"/home/latchari/.cache/torch/sentence_transformers/sentence-transformers_distiluse-base-multilingual-cased-v1/\", \"activation\": \"gelu\", \"architectures\": [\"DistilBertModel\"], \"attention_dropout\": 0.1, \"dim\": 768, \"dropout\": 0.1, \"hidden_dim\": 3072, \"initializer_range\": 0.02, \"max_position_embeddings\": 512, \"model_type\": \"distilbert\", \"n_heads\": 12, \"n_layers\": 6, \"pad_token_id\": 0, \"qa_dropout\": 0.1, \"seq_classif_dropout\": 0.2, \"sinusoidal_pos_embds\": false, \"tie_weights_\": true, \"torch_dtype\": \"float32\", \"transformers_version\": \"4.30.2\", \"vocab_size\": 119547}',\n",
       "  'pooling_mode': 'MEAN'},\n",
       " 'created_time': 1691797104332,\n",
       " 'last_updated_time': 1691797136827,\n",
       " 'last_deployed_time': 1691797136826,\n",
       " 'total_chunks': 55,\n",
       " 'planning_worker_node_count': 1,\n",
       " 'current_worker_node_count': 1,\n",
       " 'planning_worker_nodes': ['3w2aOHUBRmmwmVfoGgW8Jw'],\n",
       " 'deploy_to_all_nodes': True}"
      ]
     },
     "execution_count": 12,
     "metadata": {},
     "output_type": "execute_result"
    }
   ],
   "source": [
    "ml_client.get_model_info(\"WJL35okBqzTvNQeAJljO\")"
   ]
  },
  {
   "cell_type": "code",
   "execution_count": 14,
   "id": "c19962a9",
   "metadata": {},
   "outputs": [
    {
     "data": {
      "text/plain": [
       "{'name': 'sentence-transformers/distiluse-base-multilingual-cased-v1',\n",
       " 'algorithm': 'TEXT_EMBEDDING',\n",
       " 'model_version': '1',\n",
       " 'model_format': 'ONNX',\n",
       " 'model_state': 'DEPLOYED',\n",
       " 'model_content_size_in_bytes': 542639825,\n",
       " 'model_content_hash_value': '8417194dd20c695424cbb3152bc049c534c61043964d197e458c8d6191ed5c05',\n",
       " 'model_config': {'model_type': 'distilbert',\n",
       "  'embedding_dimension': 512,\n",
       "  'framework_type': 'SENTENCE_TRANSFORMERS',\n",
       "  'all_config': '{\"_name_or_path\": \"/home/latchari/.cache/torch/sentence_transformers/sentence-transformers_distiluse-base-multilingual-cased-v1/\", \"activation\": \"gelu\", \"architectures\": [\"DistilBertModel\"], \"attention_dropout\": 0.1, \"dim\": 768, \"dropout\": 0.1, \"hidden_dim\": 3072, \"initializer_range\": 0.02, \"max_position_embeddings\": 512, \"model_type\": \"distilbert\", \"n_heads\": 12, \"n_layers\": 6, \"pad_token_id\": 0, \"qa_dropout\": 0.1, \"seq_classif_dropout\": 0.2, \"sinusoidal_pos_embds\": false, \"tie_weights_\": true, \"torch_dtype\": \"float32\", \"transformers_version\": \"4.30.2\", \"vocab_size\": 119547}',\n",
       "  'pooling_mode': 'MEAN'},\n",
       " 'created_time': 1691797154221,\n",
       " 'last_updated_time': 1691797186857,\n",
       " 'last_deployed_time': 1691797186857,\n",
       " 'total_chunks': 55,\n",
       " 'planning_worker_node_count': 1,\n",
       " 'current_worker_node_count': 1,\n",
       " 'planning_worker_nodes': ['3w2aOHUBRmmwmVfoGgW8Jw'],\n",
       " 'deploy_to_all_nodes': True}"
      ]
     },
     "execution_count": 14,
     "metadata": {},
     "output_type": "execute_result"
    }
   ],
   "source": [
    "ml_client.get_model_info(\"WpL35okBqzTvNQeA6Vit\")"
   ]
  },
  {
   "cell_type": "markdown",
   "id": "3b22c708",
   "metadata": {},
   "source": [
    "## Step 6: Generate Sentence Embedding\n",
    "\n",
    "Now after loading these models in memory, we can generate embedding for sentences. We can provide a list of sentences to get a list of embedding for the sentences. "
   ]
  },
  {
   "cell_type": "code",
   "execution_count": 15,
   "id": "8cc5a796",
   "metadata": {},
   "outputs": [],
   "source": [
    "import numpy as np\n",
    "\n",
    "input_sentences = [\"first sentence\", \"second sentence\"]\n",
    "embedding_output_torch = ml_client.generate_embedding(\"WJL35okBqzTvNQeAJljO\", input_sentences)\n",
    "embedding_output_onnx = ml_client.generate_embedding(\"WpL35okBqzTvNQeA6Vit\", input_sentences)"
   ]
  },
  {
   "cell_type": "markdown",
   "id": "eaa9cc0c",
   "metadata": {},
   "source": [
    "## Step 7: Compare with Original Embedding"
   ]
  },
  {
   "cell_type": "code",
   "execution_count": 17,
   "id": "78795a11",
   "metadata": {},
   "outputs": [],
   "source": [
    "from sentence_transformers import SentenceTransformer\n",
    "\n",
    "original_pre_trained_model = SentenceTransformer(model_id) # From Huggingface\n",
    "original_embedding_data = list(\n",
    "    original_pre_trained_model.encode(input_sentences, convert_to_numpy=True)\n",
    ")"
   ]
  },
  {
   "cell_type": "code",
   "execution_count": 24,
   "id": "2a1e1b62",
   "metadata": {},
   "outputs": [],
   "source": [
    "embedding_data_torch = [\n",
    "            embedding_output_torch[\"inference_results\"][i][\"output\"][0][\"data\"]\n",
    "            for i in range(len(input_sentences))\n",
    "        ]"
   ]
  },
  {
   "cell_type": "code",
   "execution_count": 25,
   "id": "56d2e452",
   "metadata": {},
   "outputs": [],
   "source": [
    "embedding_data_onnx = [\n",
    "            embedding_output_onnx[\"inference_results\"][i][\"output\"][0][\"data\"]\n",
    "            for i in range(len(input_sentences))\n",
    "        ]"
   ]
  },
  {
   "cell_type": "markdown",
   "id": "5102bb69",
   "metadata": {},
   "source": [
    "### TorchScript — Correct Output"
   ]
  },
  {
   "cell_type": "code",
   "execution_count": 26,
   "id": "d6333619",
   "metadata": {},
   "outputs": [
    {
     "name": "stdout",
     "output_type": "stream",
     "text": [
      "0\n",
      "None\n",
      "1\n",
      "None\n"
     ]
    }
   ],
   "source": [
    "import numpy as np\n",
    "for i in range(len(input_sentences)):\n",
    "    print(i)\n",
    "    print(np.testing.assert_allclose(original_embedding_data[i], embedding_data_torch[i], rtol=1e-03, atol=1e-05))"
   ]
  },
  {
   "cell_type": "markdown",
   "id": "8bd75b18",
   "metadata": {},
   "source": [
    "### Onnx — Wrong Output"
   ]
  },
  {
   "cell_type": "code",
   "execution_count": 28,
   "id": "518cb233",
   "metadata": {},
   "outputs": [
    {
     "name": "stdout",
     "output_type": "stream",
     "text": [
      "0\n"
     ]
    },
    {
     "ename": "AssertionError",
     "evalue": "\nNot equal to tolerance rtol=0.001, atol=1e-05\n\n(shapes (512,), (768,) mismatch)\n x: array([ 1.097566e-02,  6.483249e-02, -4.571173e-02,  9.350105e-02,\n       -2.485733e-02, -3.051355e-02,  8.830579e-03,  1.258768e-02,\n        8.662860e-03, -4.904142e-02,  5.009826e-04, -6.247666e-03,...\n y: array([-8.156287e-02,  3.827157e-02,  1.071574e-01, -1.202194e-03,\n       -5.243819e-02, -4.310886e-02, -1.101768e-01, -1.975697e-03,\n       -5.380076e-03,  9.543222e-02, -2.704400e-02, -6.535825e-02,...",
     "output_type": "error",
     "traceback": [
      "\u001b[0;31m---------------------------------------------------------------------------\u001b[0m",
      "\u001b[0;31mAssertionError\u001b[0m                            Traceback (most recent call last)",
      "Cell \u001b[0;32mIn[28], line 3\u001b[0m\n\u001b[1;32m      1\u001b[0m \u001b[38;5;28;01mfor\u001b[39;00m i \u001b[38;5;129;01min\u001b[39;00m \u001b[38;5;28mrange\u001b[39m(\u001b[38;5;28mlen\u001b[39m(input_sentences)):\n\u001b[1;32m      2\u001b[0m     \u001b[38;5;28mprint\u001b[39m(i)\n\u001b[0;32m----> 3\u001b[0m     \u001b[38;5;28mprint\u001b[39m(\u001b[43mnp\u001b[49m\u001b[38;5;241;43m.\u001b[39;49m\u001b[43mtesting\u001b[49m\u001b[38;5;241;43m.\u001b[39;49m\u001b[43massert_allclose\u001b[49m\u001b[43m(\u001b[49m\u001b[43moriginal_embedding_data\u001b[49m\u001b[43m[\u001b[49m\u001b[43mi\u001b[49m\u001b[43m]\u001b[49m\u001b[43m,\u001b[49m\u001b[43m \u001b[49m\u001b[43membedding_data_onnx\u001b[49m\u001b[43m[\u001b[49m\u001b[43mi\u001b[49m\u001b[43m]\u001b[49m\u001b[43m,\u001b[49m\u001b[43m \u001b[49m\u001b[43mrtol\u001b[49m\u001b[38;5;241;43m=\u001b[39;49m\u001b[38;5;241;43m1e-03\u001b[39;49m\u001b[43m,\u001b[49m\u001b[43m \u001b[49m\u001b[43matol\u001b[49m\u001b[38;5;241;43m=\u001b[39;49m\u001b[38;5;241;43m1e-05\u001b[39;49m\u001b[43m)\u001b[49m)\n",
      "    \u001b[0;31m[... skipping hidden 1 frame]\u001b[0m\n",
      "File \u001b[0;32m/home/linuxbrew/.linuxbrew/opt/python@3.8/lib/python3.8/contextlib.py:75\u001b[0m, in \u001b[0;36mContextDecorator.__call__.<locals>.inner\u001b[0;34m(*args, **kwds)\u001b[0m\n\u001b[1;32m     72\u001b[0m \u001b[38;5;129m@wraps\u001b[39m(func)\n\u001b[1;32m     73\u001b[0m \u001b[38;5;28;01mdef\u001b[39;00m \u001b[38;5;21minner\u001b[39m(\u001b[38;5;241m*\u001b[39margs, \u001b[38;5;241m*\u001b[39m\u001b[38;5;241m*\u001b[39mkwds):\n\u001b[1;32m     74\u001b[0m     \u001b[38;5;28;01mwith\u001b[39;00m \u001b[38;5;28mself\u001b[39m\u001b[38;5;241m.\u001b[39m_recreate_cm():\n\u001b[0;32m---> 75\u001b[0m         \u001b[38;5;28;01mreturn\u001b[39;00m \u001b[43mfunc\u001b[49m\u001b[43m(\u001b[49m\u001b[38;5;241;43m*\u001b[39;49m\u001b[43margs\u001b[49m\u001b[43m,\u001b[49m\u001b[43m \u001b[49m\u001b[38;5;241;43m*\u001b[39;49m\u001b[38;5;241;43m*\u001b[39;49m\u001b[43mkwds\u001b[49m\u001b[43m)\u001b[49m\n",
      "File \u001b[0;32m/home/linuxbrew/.linuxbrew/opt/python@3.8/lib/python3.8/site-packages/numpy/testing/_private/utils.py:778\u001b[0m, in \u001b[0;36massert_array_compare\u001b[0;34m(comparison, x, y, err_msg, verbose, header, precision, equal_nan, equal_inf, strict)\u001b[0m\n\u001b[1;32m    772\u001b[0m         reason \u001b[38;5;241m=\u001b[39m \u001b[38;5;124mf\u001b[39m\u001b[38;5;124m'\u001b[39m\u001b[38;5;130;01m\\n\u001b[39;00m\u001b[38;5;124m(dtypes \u001b[39m\u001b[38;5;132;01m{\u001b[39;00mx\u001b[38;5;241m.\u001b[39mdtype\u001b[38;5;132;01m}\u001b[39;00m\u001b[38;5;124m, \u001b[39m\u001b[38;5;132;01m{\u001b[39;00my\u001b[38;5;241m.\u001b[39mdtype\u001b[38;5;132;01m}\u001b[39;00m\u001b[38;5;124m mismatch)\u001b[39m\u001b[38;5;124m'\u001b[39m\n\u001b[1;32m    773\u001b[0m     msg \u001b[38;5;241m=\u001b[39m build_err_msg([x, y],\n\u001b[1;32m    774\u001b[0m                         err_msg\n\u001b[1;32m    775\u001b[0m                         \u001b[38;5;241m+\u001b[39m reason,\n\u001b[1;32m    776\u001b[0m                         verbose\u001b[38;5;241m=\u001b[39mverbose, header\u001b[38;5;241m=\u001b[39mheader,\n\u001b[1;32m    777\u001b[0m                         names\u001b[38;5;241m=\u001b[39m(\u001b[38;5;124m'\u001b[39m\u001b[38;5;124mx\u001b[39m\u001b[38;5;124m'\u001b[39m, \u001b[38;5;124m'\u001b[39m\u001b[38;5;124my\u001b[39m\u001b[38;5;124m'\u001b[39m), precision\u001b[38;5;241m=\u001b[39mprecision)\n\u001b[0;32m--> 778\u001b[0m     \u001b[38;5;28;01mraise\u001b[39;00m \u001b[38;5;167;01mAssertionError\u001b[39;00m(msg)\n\u001b[1;32m    780\u001b[0m flagged \u001b[38;5;241m=\u001b[39m bool_(\u001b[38;5;28;01mFalse\u001b[39;00m)\n\u001b[1;32m    781\u001b[0m \u001b[38;5;28;01mif\u001b[39;00m isnumber(x) \u001b[38;5;129;01mand\u001b[39;00m isnumber(y):\n",
      "\u001b[0;31mAssertionError\u001b[0m: \nNot equal to tolerance rtol=0.001, atol=1e-05\n\n(shapes (512,), (768,) mismatch)\n x: array([ 1.097566e-02,  6.483249e-02, -4.571173e-02,  9.350105e-02,\n       -2.485733e-02, -3.051355e-02,  8.830579e-03,  1.258768e-02,\n        8.662860e-03, -4.904142e-02,  5.009826e-04, -6.247666e-03,...\n y: array([-8.156287e-02,  3.827157e-02,  1.071574e-01, -1.202194e-03,\n       -5.243819e-02, -4.310886e-02, -1.101768e-01, -1.975697e-03,\n       -5.380076e-03,  9.543222e-02, -2.704400e-02, -6.535825e-02,..."
     ]
    }
   ],
   "source": [
    "for i in range(len(input_sentences)):\n",
    "    print(i)\n",
    "    print(np.testing.assert_allclose(original_embedding_data[i], embedding_data_onnx[i], rtol=1e-03, atol=1e-05))"
   ]
  }
 ],
 "metadata": {
  "kernelspec": {
   "display_name": "Python 3 (ipykernel)",
   "language": "python",
   "name": "python3"
  },
  "language_info": {
   "codemirror_mode": {
    "name": "ipython",
    "version": 3
   },
   "file_extension": ".py",
   "mimetype": "text/x-python",
   "name": "python",
   "nbconvert_exporter": "python",
   "pygments_lexer": "ipython3",
   "version": "3.8.17"
  }
 },
 "nbformat": 4,
 "nbformat_minor": 5
}

{
 "cells": [
  {
   "cell_type": "markdown",
   "id": "25e1f769",
   "metadata": {},
   "source": [
    "# Trace Cross Encoder"
   ]
  },
  {
   "cell_type": "code",
   "execution_count": 1,
   "id": "77a683d9",
   "metadata": {},
   "outputs": [],
   "source": [
    "model_id = \"cross-encoder/nli-deberta-base\"\n",
    "test_sentences = [('How many people live in Berlin?', 'How many people live in Berlin?'), ('Berlin has a population of 3,520,031 registered inhabitants in an area of 891.82 square kilometers.', 'New York City is famous for the Metropolitan Museum of Art.')]"
   ]
  },
  {
   "cell_type": "code",
   "execution_count": 7,
   "id": "b80cb404",
   "metadata": {},
   "outputs": [],
   "source": [
    "import torch\n",
    "from sentence_transformers import CrossEncoder\n",
    "from transformers import AutoTokenizer, AutoModelForSequenceClassification\n",
    "import torch\n",
    "\n",
    "model = AutoModelForSequenceClassification.from_pretrained(model_id)\n",
    "model.eval()\n",
    "tokenizer = AutoTokenizer.from_pretrained(model_id)\n",
    "features = tokenizer([('Query', 'Paragraph1'), ('Query', 'Paragraph2') , ('Query', 'Paragraph3')],  padding=True, truncation=True, return_tensors=\"pt\")"
   ]
  },
  {
   "cell_type": "code",
   "execution_count": 8,
   "id": "ab54ec57",
   "metadata": {},
   "outputs": [
    {
     "data": {
      "text/plain": [
       "DebertaTokenizerFast(name_or_path='cross-encoder/nli-deberta-base', vocab_size=50265, model_max_length=512, is_fast=True, padding_side='right', truncation_side='right', special_tokens={'bos_token': AddedToken(\"[CLS]\", rstrip=False, lstrip=False, single_word=False, normalized=True), 'eos_token': AddedToken(\"[SEP]\", rstrip=False, lstrip=False, single_word=False, normalized=True), 'unk_token': AddedToken(\"[UNK]\", rstrip=False, lstrip=False, single_word=False, normalized=True), 'sep_token': AddedToken(\"[SEP]\", rstrip=False, lstrip=False, single_word=False, normalized=True), 'pad_token': AddedToken(\"[PAD]\", rstrip=False, lstrip=False, single_word=False, normalized=True), 'cls_token': AddedToken(\"[CLS]\", rstrip=False, lstrip=False, single_word=False, normalized=True), 'mask_token': AddedToken(\"[MASK]\", rstrip=False, lstrip=True, single_word=False, normalized=True)}, clean_up_tokenization_spaces=True)"
      ]
     },
     "execution_count": 8,
     "metadata": {},
     "output_type": "execute_result"
    }
   ],
   "source": [
    "tokenizer"
   ]
  },
  {
   "cell_type": "code",
   "execution_count": 9,
   "id": "c5fa5df9",
   "metadata": {},
   "outputs": [
    {
     "data": {
      "text/plain": [
       "{'input_ids': tensor([[    1, 48382,     2, 22011, 44947,   134,     2],\n",
       "        [    1, 48382,     2, 22011, 44947,   176,     2],\n",
       "        [    1, 48382,     2, 22011, 44947,   246,     2]]), 'token_type_ids': tensor([[0, 0, 0, 0, 0, 0, 0],\n",
       "        [0, 0, 0, 0, 0, 0, 0],\n",
       "        [0, 0, 0, 0, 0, 0, 0]]), 'attention_mask': tensor([[1, 1, 1, 1, 1, 1, 1],\n",
       "        [1, 1, 1, 1, 1, 1, 1],\n",
       "        [1, 1, 1, 1, 1, 1, 1]])}"
      ]
     },
     "execution_count": 9,
     "metadata": {},
     "output_type": "execute_result"
    }
   ],
   "source": [
    "features"
   ]
  },
  {
   "cell_type": "code",
   "execution_count": 10,
   "id": "cd42b68b",
   "metadata": {},
   "outputs": [
    {
     "data": {
      "text/html": [
       "<pre style=\"white-space:pre;overflow-x:auto;line-height:normal;font-family:Menlo,'DejaVu Sans Mono',consolas,'Courier New',monospace\"><span style=\"color: #800000; text-decoration-color: #800000\">╭─────────────────────────────── </span><span style=\"color: #800000; text-decoration-color: #800000; font-weight: bold\">Traceback </span><span style=\"color: #bf7f7f; text-decoration-color: #bf7f7f; font-weight: bold\">(most recent call last)</span><span style=\"color: #800000; text-decoration-color: #800000\"> ────────────────────────────────╮</span>\n",
       "<span style=\"color: #800000; text-decoration-color: #800000\">│</span> in <span style=\"color: #00ff00; text-decoration-color: #00ff00\">&lt;cell line: 0&gt;</span>:<span style=\"color: #0000ff; text-decoration-color: #0000ff\">3</span>                                                                              <span style=\"color: #800000; text-decoration-color: #800000\">│</span>\n",
       "<span style=\"color: #800000; text-decoration-color: #800000\">│</span>                                                                                                  <span style=\"color: #800000; text-decoration-color: #800000\">│</span>\n",
       "<span style=\"color: #800000; text-decoration-color: #800000\">│</span>   <span style=\"color: #7f7f7f; text-decoration-color: #7f7f7f\">1 </span>ex_input = (features[<span style=\"color: #808000; text-decoration-color: #808000\">\"input_ids\"</span>], features[<span style=\"color: #808000; text-decoration-color: #808000\">\"token_type_ids\"</span>], features[<span style=\"color: #808000; text-decoration-color: #808000\">\"attention_mask\"</span>     <span style=\"color: #800000; text-decoration-color: #800000\">│</span>\n",
       "<span style=\"color: #800000; text-decoration-color: #800000\">│</span>   <span style=\"color: #7f7f7f; text-decoration-color: #7f7f7f\">2 </span>traced_model = torch.jit.trace(model, ex_input, strict=<span style=\"color: #0000ff; text-decoration-color: #0000ff\">False</span>)                                <span style=\"color: #800000; text-decoration-color: #800000\">│</span>\n",
       "<span style=\"color: #800000; text-decoration-color: #800000\">│</span> <span style=\"color: #800000; text-decoration-color: #800000\">❱ </span>3 torch.jit.save(traced_model, <span style=\"color: #808000; text-decoration-color: #808000\">\"traced_cross_encoder.pt\"</span>)                                      <span style=\"color: #800000; text-decoration-color: #800000\">│</span>\n",
       "<span style=\"color: #800000; text-decoration-color: #800000\">│</span>   <span style=\"color: #7f7f7f; text-decoration-color: #7f7f7f\">4 </span>                                                                                             <span style=\"color: #800000; text-decoration-color: #800000\">│</span>\n",
       "<span style=\"color: #800000; text-decoration-color: #800000\">│</span>                                                                                                  <span style=\"color: #800000; text-decoration-color: #800000\">│</span>\n",
       "<span style=\"color: #800000; text-decoration-color: #800000\">│</span> <span style=\"color: #bfbf7f; text-decoration-color: #bfbf7f\">/opt/homebrew/lib/python3.11/site-packages/torch/jit/</span><span style=\"color: #808000; text-decoration-color: #808000; font-weight: bold\">_serialization.py</span>:<span style=\"color: #0000ff; text-decoration-color: #0000ff\">80</span> in <span style=\"color: #00ff00; text-decoration-color: #00ff00\">save</span>                <span style=\"color: #800000; text-decoration-color: #800000\">│</span>\n",
       "<span style=\"color: #800000; text-decoration-color: #800000\">│</span>                                                                                                  <span style=\"color: #800000; text-decoration-color: #800000\">│</span>\n",
       "<span style=\"color: #800000; text-decoration-color: #800000\">│</span>   <span style=\"color: #7f7f7f; text-decoration-color: #7f7f7f\"> 77 </span><span style=\"color: #7f7f7f; text-decoration-color: #7f7f7f\">│   </span><span style=\"color: #0000ff; text-decoration-color: #0000ff\">if</span> _extra_files <span style=\"color: #ff00ff; text-decoration-color: #ff00ff\">is</span> <span style=\"color: #0000ff; text-decoration-color: #0000ff\">None</span>:                                                               <span style=\"color: #800000; text-decoration-color: #800000\">│</span>\n",
       "<span style=\"color: #800000; text-decoration-color: #800000\">│</span>   <span style=\"color: #7f7f7f; text-decoration-color: #7f7f7f\"> 78 </span><span style=\"color: #7f7f7f; text-decoration-color: #7f7f7f\">│   │   </span>_extra_files = {}                                                                  <span style=\"color: #800000; text-decoration-color: #800000\">│</span>\n",
       "<span style=\"color: #800000; text-decoration-color: #800000\">│</span>   <span style=\"color: #7f7f7f; text-decoration-color: #7f7f7f\"> 79 </span><span style=\"color: #7f7f7f; text-decoration-color: #7f7f7f\">│   </span><span style=\"color: #0000ff; text-decoration-color: #0000ff\">if</span> <span style=\"color: #00ffff; text-decoration-color: #00ffff\">isinstance</span>(f, (<span style=\"color: #00ffff; text-decoration-color: #00ffff\">str</span>, pathlib.Path)):                                                 <span style=\"color: #800000; text-decoration-color: #800000\">│</span>\n",
       "<span style=\"color: #800000; text-decoration-color: #800000\">│</span> <span style=\"color: #800000; text-decoration-color: #800000\">❱ </span> 80 <span style=\"color: #7f7f7f; text-decoration-color: #7f7f7f\">│   │   </span>m.save(f, _extra_files=_extra_files)                                               <span style=\"color: #800000; text-decoration-color: #800000\">│</span>\n",
       "<span style=\"color: #800000; text-decoration-color: #800000\">│</span>   <span style=\"color: #7f7f7f; text-decoration-color: #7f7f7f\"> 81 </span><span style=\"color: #7f7f7f; text-decoration-color: #7f7f7f\">│   </span><span style=\"color: #0000ff; text-decoration-color: #0000ff\">else</span>:                                                                                  <span style=\"color: #800000; text-decoration-color: #800000\">│</span>\n",
       "<span style=\"color: #800000; text-decoration-color: #800000\">│</span>   <span style=\"color: #7f7f7f; text-decoration-color: #7f7f7f\"> 82 </span><span style=\"color: #7f7f7f; text-decoration-color: #7f7f7f\">│   │   </span>ret = m.save_to_buffer(_extra_files=_extra_files)                                  <span style=\"color: #800000; text-decoration-color: #800000\">│</span>\n",
       "<span style=\"color: #800000; text-decoration-color: #800000\">│</span>   <span style=\"color: #7f7f7f; text-decoration-color: #7f7f7f\"> 83 </span><span style=\"color: #7f7f7f; text-decoration-color: #7f7f7f\">│   │   </span>f.write(ret)                                                                       <span style=\"color: #800000; text-decoration-color: #800000\">│</span>\n",
       "<span style=\"color: #800000; text-decoration-color: #800000\">│</span>                                                                                                  <span style=\"color: #800000; text-decoration-color: #800000\">│</span>\n",
       "<span style=\"color: #800000; text-decoration-color: #800000\">│</span> <span style=\"color: #bfbf7f; text-decoration-color: #bfbf7f\">/opt/homebrew/lib/python3.11/site-packages/torch/jit/</span><span style=\"color: #808000; text-decoration-color: #808000; font-weight: bold\">_script.py</span>:<span style=\"color: #0000ff; text-decoration-color: #0000ff\">713</span> in <span style=\"color: #00ff00; text-decoration-color: #00ff00\">save</span>                      <span style=\"color: #800000; text-decoration-color: #800000\">│</span>\n",
       "<span style=\"color: #800000; text-decoration-color: #800000\">│</span>                                                                                                  <span style=\"color: #800000; text-decoration-color: #800000\">│</span>\n",
       "<span style=\"color: #800000; text-decoration-color: #800000\">│</span>   <span style=\"color: #7f7f7f; text-decoration-color: #7f7f7f\"> 710 </span><span style=\"color: #7f7f7f; text-decoration-color: #7f7f7f\">│   │   │   </span>                                                                              <span style=\"color: #800000; text-decoration-color: #800000\">│</span>\n",
       "<span style=\"color: #800000; text-decoration-color: #800000\">│</span>   <span style=\"color: #7f7f7f; text-decoration-color: #7f7f7f\"> 711 </span><span style=\"color: #bfbf7f; text-decoration-color: #bfbf7f\">│   │   │   </span><span style=\"color: #808000; text-decoration-color: #808000\">See :func:`torch.jit.save &lt;torch.jit.save&gt;` for details.</span>                      <span style=\"color: #800000; text-decoration-color: #800000\">│</span>\n",
       "<span style=\"color: #800000; text-decoration-color: #800000\">│</span>   <span style=\"color: #7f7f7f; text-decoration-color: #7f7f7f\"> 712 </span><span style=\"color: #bfbf7f; text-decoration-color: #bfbf7f\">│   │   │   </span><span style=\"color: #808000; text-decoration-color: #808000\">\"\"\"</span>                                                                           <span style=\"color: #800000; text-decoration-color: #800000\">│</span>\n",
       "<span style=\"color: #800000; text-decoration-color: #800000\">│</span> <span style=\"color: #800000; text-decoration-color: #800000\">❱ </span> 713 <span style=\"color: #7f7f7f; text-decoration-color: #7f7f7f\">│   │   │   </span><span style=\"color: #0000ff; text-decoration-color: #0000ff\">return</span> <span style=\"color: #00ffff; text-decoration-color: #00ffff\">self</span>._c.save(<span style=\"color: #00ffff; text-decoration-color: #00ffff\">str</span>(f), **kwargs)                                         <span style=\"color: #800000; text-decoration-color: #800000\">│</span>\n",
       "<span style=\"color: #800000; text-decoration-color: #800000\">│</span>   <span style=\"color: #7f7f7f; text-decoration-color: #7f7f7f\"> 714 </span><span style=\"color: #7f7f7f; text-decoration-color: #7f7f7f\">│   │   </span>                                                                                  <span style=\"color: #800000; text-decoration-color: #800000\">│</span>\n",
       "<span style=\"color: #800000; text-decoration-color: #800000\">│</span>   <span style=\"color: #7f7f7f; text-decoration-color: #7f7f7f\"> 715 </span><span style=\"color: #7f7f7f; text-decoration-color: #7f7f7f\">│   │   </span><span style=\"color: #0000ff; text-decoration-color: #0000ff\">def</span> <span style=\"color: #00ff00; text-decoration-color: #00ff00\">_save_for_lite_interpreter</span>(<span style=\"color: #00ffff; text-decoration-color: #00ffff\">self</span>, *args, **kwargs):                            <span style=\"color: #800000; text-decoration-color: #800000\">│</span>\n",
       "<span style=\"color: #800000; text-decoration-color: #800000\">│</span>   <span style=\"color: #7f7f7f; text-decoration-color: #7f7f7f\"> 716 </span><span style=\"color: #bfbfbf; text-decoration-color: #bfbfbf\">│   │   │   </span><span style=\"color: #808000; text-decoration-color: #808000\">r\"\"\"</span>                                                                          <span style=\"color: #800000; text-decoration-color: #800000\">│</span>\n",
       "<span style=\"color: #800000; text-decoration-color: #800000\">╰──────────────────────────────────────────────────────────────────────────────────────────────────╯</span>\n",
       "<span style=\"color: #ff0000; text-decoration-color: #ff0000; font-weight: bold\">RuntimeError: </span>\n",
       "Could not export Python function call <span style=\"color: #008000; text-decoration-color: #008000\">'XSoftmax'</span>. Remove calls to Python functions before export. Did you forget to\n",
       "add @script or @script_method annotation? If this is a nn.ModuleList, add it to __constants__:\n",
       "<span style=\"color: #800080; text-decoration-color: #800080\">/opt/homebrew/lib/python3.11/site-packages/torch/autograd/</span><span style=\"color: #ff00ff; text-decoration-color: #ff00ff\">function.py</span><span style=\"font-weight: bold\">(</span><span style=\"color: #008080; text-decoration-color: #008080; font-weight: bold\">506</span><span style=\"font-weight: bold\">)</span>: apply\n",
       "<span style=\"color: #800080; text-decoration-color: #800080\">/opt/homebrew/lib/python3.11/site-packages/transformers/models/deberta/</span><span style=\"color: #ff00ff; text-decoration-color: #ff00ff\">modeling_deberta.py</span><span style=\"font-weight: bold\">(</span><span style=\"color: #008080; text-decoration-color: #008080; font-weight: bold\">676</span><span style=\"font-weight: bold\">)</span>: forward\n",
       "<span style=\"color: #800080; text-decoration-color: #800080\">/opt/homebrew/lib/python3.11/site-packages/torch/nn/modules/</span><span style=\"color: #ff00ff; text-decoration-color: #ff00ff\">module.py</span><span style=\"font-weight: bold\">(</span><span style=\"color: #008080; text-decoration-color: #008080; font-weight: bold\">1488</span><span style=\"font-weight: bold\">)</span>: _slow_forward\n",
       "<span style=\"color: #800080; text-decoration-color: #800080\">/opt/homebrew/lib/python3.11/site-packages/torch/nn/modules/</span><span style=\"color: #ff00ff; text-decoration-color: #ff00ff\">module.py</span><span style=\"font-weight: bold\">(</span><span style=\"color: #008080; text-decoration-color: #008080; font-weight: bold\">1501</span><span style=\"font-weight: bold\">)</span>: _call_impl\n",
       "<span style=\"color: #800080; text-decoration-color: #800080\">/opt/homebrew/lib/python3.11/site-packages/transformers/models/deberta/</span><span style=\"color: #ff00ff; text-decoration-color: #ff00ff\">modeling_deberta.py</span><span style=\"font-weight: bold\">(</span><span style=\"color: #008080; text-decoration-color: #008080; font-weight: bold\">316</span><span style=\"font-weight: bold\">)</span>: forward\n",
       "<span style=\"color: #800080; text-decoration-color: #800080\">/opt/homebrew/lib/python3.11/site-packages/torch/nn/modules/</span><span style=\"color: #ff00ff; text-decoration-color: #ff00ff\">module.py</span><span style=\"font-weight: bold\">(</span><span style=\"color: #008080; text-decoration-color: #008080; font-weight: bold\">1488</span><span style=\"font-weight: bold\">)</span>: _slow_forward\n",
       "<span style=\"color: #800080; text-decoration-color: #800080\">/opt/homebrew/lib/python3.11/site-packages/torch/nn/modules/</span><span style=\"color: #ff00ff; text-decoration-color: #ff00ff\">module.py</span><span style=\"font-weight: bold\">(</span><span style=\"color: #008080; text-decoration-color: #008080; font-weight: bold\">1501</span><span style=\"font-weight: bold\">)</span>: _call_impl\n",
       "<span style=\"color: #800080; text-decoration-color: #800080\">/opt/homebrew/lib/python3.11/site-packages/transformers/models/deberta/</span><span style=\"color: #ff00ff; text-decoration-color: #ff00ff\">modeling_deberta.py</span><span style=\"font-weight: bold\">(</span><span style=\"color: #008080; text-decoration-color: #008080; font-weight: bold\">383</span><span style=\"font-weight: bold\">)</span>: forward\n",
       "<span style=\"color: #800080; text-decoration-color: #800080\">/opt/homebrew/lib/python3.11/site-packages/torch/nn/modules/</span><span style=\"color: #ff00ff; text-decoration-color: #ff00ff\">module.py</span><span style=\"font-weight: bold\">(</span><span style=\"color: #008080; text-decoration-color: #008080; font-weight: bold\">1488</span><span style=\"font-weight: bold\">)</span>: _slow_forward\n",
       "<span style=\"color: #800080; text-decoration-color: #800080\">/opt/homebrew/lib/python3.11/site-packages/torch/nn/modules/</span><span style=\"color: #ff00ff; text-decoration-color: #ff00ff\">module.py</span><span style=\"font-weight: bold\">(</span><span style=\"color: #008080; text-decoration-color: #008080; font-weight: bold\">1501</span><span style=\"font-weight: bold\">)</span>: _call_impl\n",
       "<span style=\"color: #800080; text-decoration-color: #800080\">/opt/homebrew/lib/python3.11/site-packages/transformers/models/deberta/</span><span style=\"color: #ff00ff; text-decoration-color: #ff00ff\">modeling_deberta.py</span><span style=\"font-weight: bold\">(</span><span style=\"color: #008080; text-decoration-color: #008080; font-weight: bold\">476</span><span style=\"font-weight: bold\">)</span>: forward\n",
       "<span style=\"color: #800080; text-decoration-color: #800080\">/opt/homebrew/lib/python3.11/site-packages/torch/nn/modules/</span><span style=\"color: #ff00ff; text-decoration-color: #ff00ff\">module.py</span><span style=\"font-weight: bold\">(</span><span style=\"color: #008080; text-decoration-color: #008080; font-weight: bold\">1488</span><span style=\"font-weight: bold\">)</span>: _slow_forward\n",
       "<span style=\"color: #800080; text-decoration-color: #800080\">/opt/homebrew/lib/python3.11/site-packages/torch/nn/modules/</span><span style=\"color: #ff00ff; text-decoration-color: #ff00ff\">module.py</span><span style=\"font-weight: bold\">(</span><span style=\"color: #008080; text-decoration-color: #008080; font-weight: bold\">1501</span><span style=\"font-weight: bold\">)</span>: _call_impl\n",
       "<span style=\"color: #800080; text-decoration-color: #800080\">/opt/homebrew/lib/python3.11/site-packages/transformers/models/deberta/</span><span style=\"color: #ff00ff; text-decoration-color: #ff00ff\">modeling_deberta.py</span><span style=\"font-weight: bold\">(</span><span style=\"color: #008080; text-decoration-color: #008080; font-weight: bold\">982</span><span style=\"font-weight: bold\">)</span>: forward\n",
       "<span style=\"color: #800080; text-decoration-color: #800080\">/opt/homebrew/lib/python3.11/site-packages/torch/nn/modules/</span><span style=\"color: #ff00ff; text-decoration-color: #ff00ff\">module.py</span><span style=\"font-weight: bold\">(</span><span style=\"color: #008080; text-decoration-color: #008080; font-weight: bold\">1488</span><span style=\"font-weight: bold\">)</span>: _slow_forward\n",
       "<span style=\"color: #800080; text-decoration-color: #800080\">/opt/homebrew/lib/python3.11/site-packages/torch/nn/modules/</span><span style=\"color: #ff00ff; text-decoration-color: #ff00ff\">module.py</span><span style=\"font-weight: bold\">(</span><span style=\"color: #008080; text-decoration-color: #008080; font-weight: bold\">1501</span><span style=\"font-weight: bold\">)</span>: _call_impl\n",
       "<span style=\"color: #800080; text-decoration-color: #800080\">/opt/homebrew/lib/python3.11/site-packages/transformers/models/deberta/</span><span style=\"color: #ff00ff; text-decoration-color: #ff00ff\">modeling_deberta.py</span><span style=\"font-weight: bold\">(</span><span style=\"color: #008080; text-decoration-color: #008080; font-weight: bold\">1210</span><span style=\"font-weight: bold\">)</span>: forward\n",
       "<span style=\"color: #800080; text-decoration-color: #800080\">/opt/homebrew/lib/python3.11/site-packages/torch/nn/modules/</span><span style=\"color: #ff00ff; text-decoration-color: #ff00ff\">module.py</span><span style=\"font-weight: bold\">(</span><span style=\"color: #008080; text-decoration-color: #008080; font-weight: bold\">1488</span><span style=\"font-weight: bold\">)</span>: _slow_forward\n",
       "<span style=\"color: #800080; text-decoration-color: #800080\">/opt/homebrew/lib/python3.11/site-packages/torch/nn/modules/</span><span style=\"color: #ff00ff; text-decoration-color: #ff00ff\">module.py</span><span style=\"font-weight: bold\">(</span><span style=\"color: #008080; text-decoration-color: #008080; font-weight: bold\">1501</span><span style=\"font-weight: bold\">)</span>: _call_impl\n",
       "<span style=\"color: #800080; text-decoration-color: #800080\">/opt/homebrew/lib/python3.11/site-packages/torch/jit/</span><span style=\"color: #ff00ff; text-decoration-color: #ff00ff\">_trace.py</span><span style=\"font-weight: bold\">(</span><span style=\"color: #008080; text-decoration-color: #008080; font-weight: bold\">1056</span><span style=\"font-weight: bold\">)</span>: trace_module\n",
       "<span style=\"color: #800080; text-decoration-color: #800080\">/opt/homebrew/lib/python3.11/site-packages/torch/jit/</span><span style=\"color: #ff00ff; text-decoration-color: #ff00ff\">_trace.py</span><span style=\"font-weight: bold\">(</span><span style=\"color: #008080; text-decoration-color: #008080; font-weight: bold\">794</span><span style=\"font-weight: bold\">)</span>: trace\n",
       "<span style=\"color: #800080; text-decoration-color: #800080\">/var/folders/1w/vhx2qhwn39bcgx6_rl0052hh0000gr/T/ipykernel_90464/</span><span style=\"color: #ff00ff; text-decoration-color: #ff00ff\">1166238069.py</span><span style=\"font-weight: bold\">(</span><span style=\"color: #008080; text-decoration-color: #008080; font-weight: bold\">2</span><span style=\"font-weight: bold\">)</span>: <span style=\"font-weight: bold\">&lt;</span><span style=\"color: #ff00ff; text-decoration-color: #ff00ff; font-weight: bold\">cell</span><span style=\"color: #000000; text-decoration-color: #000000\"> line: </span><span style=\"color: #008080; text-decoration-color: #008080; font-weight: bold\">0</span><span style=\"color: #000000; text-decoration-color: #000000\">&gt;</span>\n",
       "<span style=\"color: #800080; text-decoration-color: #800080\">/opt/homebrew/lib/python3.11/site-packages/IPython/core/</span><span style=\"color: #ff00ff; text-decoration-color: #ff00ff\">interactiveshell.py</span><span style=\"color: #000000; text-decoration-color: #000000; font-weight: bold\">(</span><span style=\"color: #008080; text-decoration-color: #008080; font-weight: bold\">3553</span><span style=\"color: #000000; text-decoration-color: #000000; font-weight: bold\">)</span><span style=\"color: #000000; text-decoration-color: #000000\">: run_code</span>\n",
       "<span style=\"color: #800080; text-decoration-color: #800080\">/opt/homebrew/lib/python3.11/site-packages/IPython/core/</span><span style=\"color: #ff00ff; text-decoration-color: #ff00ff\">interactiveshell.py</span><span style=\"color: #000000; text-decoration-color: #000000; font-weight: bold\">(</span><span style=\"color: #008080; text-decoration-color: #008080; font-weight: bold\">3473</span><span style=\"color: #000000; text-decoration-color: #000000; font-weight: bold\">)</span><span style=\"color: #000000; text-decoration-color: #000000\">: run_ast_nodes</span>\n",
       "<span style=\"color: #800080; text-decoration-color: #800080\">/opt/homebrew/lib/python3.11/site-packages/IPython/core/</span><span style=\"color: #ff00ff; text-decoration-color: #ff00ff\">interactiveshell.py</span><span style=\"color: #000000; text-decoration-color: #000000; font-weight: bold\">(</span><span style=\"color: #008080; text-decoration-color: #008080; font-weight: bold\">3257</span><span style=\"color: #000000; text-decoration-color: #000000; font-weight: bold\">)</span><span style=\"color: #000000; text-decoration-color: #000000\">: run_cell_async</span>\n",
       "<span style=\"color: #800080; text-decoration-color: #800080\">/opt/homebrew/lib/python3.11/site-packages/IPython/core/</span><span style=\"color: #ff00ff; text-decoration-color: #ff00ff\">async_helpers.py</span><span style=\"color: #000000; text-decoration-color: #000000; font-weight: bold\">(</span><span style=\"color: #008080; text-decoration-color: #008080; font-weight: bold\">78</span><span style=\"color: #000000; text-decoration-color: #000000; font-weight: bold\">)</span><span style=\"color: #000000; text-decoration-color: #000000\">: _pseudo_sync_runner</span>\n",
       "<span style=\"color: #800080; text-decoration-color: #800080\">/opt/homebrew/lib/python3.11/site-packages/IPython/core/</span><span style=\"color: #ff00ff; text-decoration-color: #ff00ff\">interactiveshell.py</span><span style=\"color: #000000; text-decoration-color: #000000; font-weight: bold\">(</span><span style=\"color: #008080; text-decoration-color: #008080; font-weight: bold\">3030</span><span style=\"color: #000000; text-decoration-color: #000000; font-weight: bold\">)</span><span style=\"color: #000000; text-decoration-color: #000000\">: _run_cell</span>\n",
       "<span style=\"color: #800080; text-decoration-color: #800080\">/opt/homebrew/lib/python3.11/site-packages/IPython/core/</span><span style=\"color: #ff00ff; text-decoration-color: #ff00ff\">interactiveshell.py</span><span style=\"color: #000000; text-decoration-color: #000000; font-weight: bold\">(</span><span style=\"color: #008080; text-decoration-color: #008080; font-weight: bold\">2975</span><span style=\"color: #000000; text-decoration-color: #000000; font-weight: bold\">)</span><span style=\"color: #000000; text-decoration-color: #000000\">: run_cell</span>\n",
       "<span style=\"color: #800080; text-decoration-color: #800080\">/opt/homebrew/lib/python3.11/site-packages/ipykernel/</span><span style=\"color: #ff00ff; text-decoration-color: #ff00ff\">zmqshell.py</span><span style=\"color: #000000; text-decoration-color: #000000; font-weight: bold\">(</span><span style=\"color: #008080; text-decoration-color: #008080; font-weight: bold\">533</span><span style=\"color: #000000; text-decoration-color: #000000; font-weight: bold\">)</span><span style=\"color: #000000; text-decoration-color: #000000\">: run_cell</span>\n",
       "<span style=\"color: #800080; text-decoration-color: #800080\">/opt/homebrew/lib/python3.11/site-packages/ipykernel/</span><span style=\"color: #ff00ff; text-decoration-color: #ff00ff\">ipkernel.py</span><span style=\"color: #000000; text-decoration-color: #000000; font-weight: bold\">(</span><span style=\"color: #008080; text-decoration-color: #008080; font-weight: bold\">353</span><span style=\"color: #000000; text-decoration-color: #000000; font-weight: bold\">)</span><span style=\"color: #000000; text-decoration-color: #000000\">: do_execute</span>\n",
       "<span style=\"color: #800080; text-decoration-color: #800080\">/opt/homebrew/lib/python3.11/site-packages/ipykernel/</span><span style=\"color: #ff00ff; text-decoration-color: #ff00ff\">kernelbase.py</span><span style=\"color: #000000; text-decoration-color: #000000; font-weight: bold\">(</span><span style=\"color: #008080; text-decoration-color: #008080; font-weight: bold\">648</span><span style=\"color: #000000; text-decoration-color: #000000; font-weight: bold\">)</span><span style=\"color: #000000; text-decoration-color: #000000\">: execute_request</span>\n",
       "<span style=\"color: #800080; text-decoration-color: #800080\">/opt/homebrew/lib/python3.11/site-packages/ipykernel/</span><span style=\"color: #ff00ff; text-decoration-color: #ff00ff\">kernelbase.py</span><span style=\"color: #000000; text-decoration-color: #000000; font-weight: bold\">(</span><span style=\"color: #008080; text-decoration-color: #008080; font-weight: bold\">353</span><span style=\"color: #000000; text-decoration-color: #000000; font-weight: bold\">)</span><span style=\"color: #000000; text-decoration-color: #000000\">: dispatch_shell</span>\n",
       "<span style=\"color: #800080; text-decoration-color: #800080\">/opt/homebrew/lib/python3.11/site-packages/ipykernel/</span><span style=\"color: #ff00ff; text-decoration-color: #ff00ff\">kernelbase.py</span><span style=\"color: #000000; text-decoration-color: #000000; font-weight: bold\">(</span><span style=\"color: #008080; text-decoration-color: #008080; font-weight: bold\">446</span><span style=\"color: #000000; text-decoration-color: #000000; font-weight: bold\">)</span><span style=\"color: #000000; text-decoration-color: #000000\">: process_one</span>\n",
       "<span style=\"color: #800080; text-decoration-color: #800080\">/opt/homebrew/lib/python3.11/site-packages/ipykernel/</span><span style=\"color: #ff00ff; text-decoration-color: #ff00ff\">kernelbase.py</span><span style=\"color: #000000; text-decoration-color: #000000; font-weight: bold\">(</span><span style=\"color: #008080; text-decoration-color: #008080; font-weight: bold\">457</span><span style=\"color: #000000; text-decoration-color: #000000; font-weight: bold\">)</span><span style=\"color: #000000; text-decoration-color: #000000\">: dispatch_queue</span>\n",
       "<span style=\"color: #800080; text-decoration-color: #800080\">/opt/homebrew/Cellar/</span><span style=\"color: #ff00ff; text-decoration-color: #ff00ff\">python</span><span style=\"color: #000000; text-decoration-color: #000000\">@</span><span style=\"color: #008080; text-decoration-color: #008080; font-weight: bold\">3.11</span><span style=\"color: #000000; text-decoration-color: #000000\">/</span><span style=\"color: #008080; text-decoration-color: #008080; font-weight: bold\">3.11</span><span style=\"color: #000000; text-decoration-color: #000000\">.</span><span style=\"color: #008080; text-decoration-color: #008080; font-weight: bold\">4</span><span style=\"color: #000000; text-decoration-color: #000000\">/Frameworks/Python.framework/Versions/</span><span style=\"color: #008080; text-decoration-color: #008080; font-weight: bold\">3.11</span><span style=\"color: #000000; text-decoration-color: #000000\">/lib/python3.</span><span style=\"color: #008080; text-decoration-color: #008080; font-weight: bold\">11</span><span style=\"color: #000000; text-decoration-color: #000000\">/asyncio/</span><span style=\"color: #800080; text-decoration-color: #800080; font-weight: bold\">events.py</span><span style=\"color: #000000; text-decoration-color: #000000; font-weight: bold\">(</span>\n",
       "<span style=\"color: #008080; text-decoration-color: #008080; font-weight: bold\">80</span><span style=\"color: #000000; text-decoration-color: #000000; font-weight: bold\">)</span><span style=\"color: #000000; text-decoration-color: #000000\">: _run</span>\n",
       "<span style=\"color: #800080; text-decoration-color: #800080\">/opt/homebrew/Cellar/</span><span style=\"color: #ff00ff; text-decoration-color: #ff00ff\">python</span><span style=\"color: #000000; text-decoration-color: #000000\">@</span><span style=\"color: #008080; text-decoration-color: #008080; font-weight: bold\">3.11</span><span style=\"color: #000000; text-decoration-color: #000000\">/</span><span style=\"color: #008080; text-decoration-color: #008080; font-weight: bold\">3.11</span><span style=\"color: #000000; text-decoration-color: #000000\">.</span><span style=\"color: #008080; text-decoration-color: #008080; font-weight: bold\">4</span><span style=\"color: #000000; text-decoration-color: #000000\">/Frameworks/Python.framework/Versions/</span><span style=\"color: #008080; text-decoration-color: #008080; font-weight: bold\">3.11</span><span style=\"color: #000000; text-decoration-color: #000000\">/lib/python3.</span><span style=\"color: #008080; text-decoration-color: #008080; font-weight: bold\">11</span><span style=\"color: #000000; text-decoration-color: #000000\">/asyncio/</span><span style=\"color: #800080; text-decoration-color: #800080; font-weight: bold\">base_event</span>\n",
       "<span style=\"color: #800080; text-decoration-color: #800080; font-weight: bold\">s.py</span><span style=\"color: #000000; text-decoration-color: #000000; font-weight: bold\">(</span><span style=\"color: #008080; text-decoration-color: #008080; font-weight: bold\">1922</span><span style=\"color: #000000; text-decoration-color: #000000; font-weight: bold\">)</span><span style=\"color: #000000; text-decoration-color: #000000\">: _run_once</span>\n",
       "<span style=\"color: #800080; text-decoration-color: #800080\">/opt/homebrew/Cellar/</span><span style=\"color: #ff00ff; text-decoration-color: #ff00ff\">python</span><span style=\"color: #000000; text-decoration-color: #000000\">@</span><span style=\"color: #008080; text-decoration-color: #008080; font-weight: bold\">3.11</span><span style=\"color: #000000; text-decoration-color: #000000\">/</span><span style=\"color: #008080; text-decoration-color: #008080; font-weight: bold\">3.11</span><span style=\"color: #000000; text-decoration-color: #000000\">.</span><span style=\"color: #008080; text-decoration-color: #008080; font-weight: bold\">4</span><span style=\"color: #000000; text-decoration-color: #000000\">/Frameworks/Python.framework/Versions/</span><span style=\"color: #008080; text-decoration-color: #008080; font-weight: bold\">3.11</span><span style=\"color: #000000; text-decoration-color: #000000\">/lib/python3.</span><span style=\"color: #008080; text-decoration-color: #008080; font-weight: bold\">11</span><span style=\"color: #000000; text-decoration-color: #000000\">/asyncio/</span><span style=\"color: #800080; text-decoration-color: #800080; font-weight: bold\">base_event</span>\n",
       "<span style=\"color: #800080; text-decoration-color: #800080; font-weight: bold\">s.py</span><span style=\"color: #000000; text-decoration-color: #000000; font-weight: bold\">(</span><span style=\"color: #008080; text-decoration-color: #008080; font-weight: bold\">607</span><span style=\"color: #000000; text-decoration-color: #000000; font-weight: bold\">)</span><span style=\"color: #000000; text-decoration-color: #000000\">: run_forever</span>\n",
       "<span style=\"color: #800080; text-decoration-color: #800080\">/opt/homebrew/lib/python3.11/site-packages/tornado/platform/</span><span style=\"color: #ff00ff; text-decoration-color: #ff00ff\">asyncio.py</span><span style=\"color: #000000; text-decoration-color: #000000; font-weight: bold\">(</span><span style=\"color: #008080; text-decoration-color: #008080; font-weight: bold\">195</span><span style=\"color: #000000; text-decoration-color: #000000; font-weight: bold\">)</span><span style=\"color: #000000; text-decoration-color: #000000\">: start</span>\n",
       "<span style=\"color: #800080; text-decoration-color: #800080\">/opt/homebrew/lib/python3.11/site-packages/ipykernel/</span><span style=\"color: #ff00ff; text-decoration-color: #ff00ff\">kernelapp.py</span><span style=\"color: #000000; text-decoration-color: #000000; font-weight: bold\">(</span><span style=\"color: #008080; text-decoration-color: #008080; font-weight: bold\">677</span><span style=\"color: #000000; text-decoration-color: #000000; font-weight: bold\">)</span><span style=\"color: #000000; text-decoration-color: #000000\">: start</span>\n",
       "<span style=\"color: #800080; text-decoration-color: #800080\">/opt/homebrew/lib/python3.11/site-packages/traitlets/config/</span><span style=\"color: #ff00ff; text-decoration-color: #ff00ff\">application.py</span><span style=\"color: #000000; text-decoration-color: #000000; font-weight: bold\">(</span><span style=\"color: #008080; text-decoration-color: #008080; font-weight: bold\">845</span><span style=\"color: #000000; text-decoration-color: #000000; font-weight: bold\">)</span><span style=\"color: #000000; text-decoration-color: #000000\">: launch_instance</span>\n",
       "<span style=\"color: #800080; text-decoration-color: #800080\">/opt/homebrew/lib/python3.11/site-packages/</span><span style=\"color: #ff00ff; text-decoration-color: #ff00ff\">ipykernel_launcher.py</span><span style=\"color: #000000; text-decoration-color: #000000; font-weight: bold\">(</span><span style=\"color: #008080; text-decoration-color: #008080; font-weight: bold\">16</span><span style=\"color: #000000; text-decoration-color: #000000; font-weight: bold\">)</span><span style=\"color: #000000; text-decoration-color: #000000\">: &lt;module&gt;</span>\n",
       "<span style=\"color: #000000; text-decoration-color: #000000\">&lt;frozen runpy&gt;</span><span style=\"color: #000000; text-decoration-color: #000000; font-weight: bold\">(</span><span style=\"color: #008080; text-decoration-color: #008080; font-weight: bold\">88</span><span style=\"color: #000000; text-decoration-color: #000000; font-weight: bold\">)</span><span style=\"color: #000000; text-decoration-color: #000000\">: _run_code</span>\n",
       "<span style=\"color: #000000; text-decoration-color: #000000\">&lt;frozen runpy</span><span style=\"font-weight: bold\">&gt;(</span><span style=\"color: #008080; text-decoration-color: #008080; font-weight: bold\">198</span><span style=\"font-weight: bold\">)</span>: _run_module_as_main\n",
       "\n",
       "</pre>\n"
      ],
      "text/plain": [
       "\u001b[31m╭─\u001b[0m\u001b[31m──────────────────────────────\u001b[0m\u001b[31m \u001b[0m\u001b[1;31mTraceback \u001b[0m\u001b[1;2;31m(most recent call last)\u001b[0m\u001b[31m \u001b[0m\u001b[31m───────────────────────────────\u001b[0m\u001b[31m─╮\u001b[0m\n",
       "\u001b[31m│\u001b[0m in \u001b[92m<cell line: 0>\u001b[0m:\u001b[94m3\u001b[0m                                                                              \u001b[31m│\u001b[0m\n",
       "\u001b[31m│\u001b[0m                                                                                                  \u001b[31m│\u001b[0m\n",
       "\u001b[31m│\u001b[0m   \u001b[2m1 \u001b[0mex_input = (features[\u001b[33m\"\u001b[0m\u001b[33minput_ids\u001b[0m\u001b[33m\"\u001b[0m], features[\u001b[33m\"\u001b[0m\u001b[33mtoken_type_ids\u001b[0m\u001b[33m\"\u001b[0m], features[\u001b[33m\"\u001b[0m\u001b[33mattention_mask\u001b[0m\u001b[33m\"\u001b[0m     \u001b[31m│\u001b[0m\n",
       "\u001b[31m│\u001b[0m   \u001b[2m2 \u001b[0mtraced_model = torch.jit.trace(model, ex_input, strict=\u001b[94mFalse\u001b[0m)                                \u001b[31m│\u001b[0m\n",
       "\u001b[31m│\u001b[0m \u001b[31m❱ \u001b[0m3 torch.jit.save(traced_model, \u001b[33m\"\u001b[0m\u001b[33mtraced_cross_encoder.pt\u001b[0m\u001b[33m\"\u001b[0m)                                      \u001b[31m│\u001b[0m\n",
       "\u001b[31m│\u001b[0m   \u001b[2m4 \u001b[0m                                                                                             \u001b[31m│\u001b[0m\n",
       "\u001b[31m│\u001b[0m                                                                                                  \u001b[31m│\u001b[0m\n",
       "\u001b[31m│\u001b[0m \u001b[2;33m/opt/homebrew/lib/python3.11/site-packages/torch/jit/\u001b[0m\u001b[1;33m_serialization.py\u001b[0m:\u001b[94m80\u001b[0m in \u001b[92msave\u001b[0m                \u001b[31m│\u001b[0m\n",
       "\u001b[31m│\u001b[0m                                                                                                  \u001b[31m│\u001b[0m\n",
       "\u001b[31m│\u001b[0m   \u001b[2m 77 \u001b[0m\u001b[2m│   \u001b[0m\u001b[94mif\u001b[0m _extra_files \u001b[95mis\u001b[0m \u001b[94mNone\u001b[0m:                                                               \u001b[31m│\u001b[0m\n",
       "\u001b[31m│\u001b[0m   \u001b[2m 78 \u001b[0m\u001b[2m│   │   \u001b[0m_extra_files = {}                                                                  \u001b[31m│\u001b[0m\n",
       "\u001b[31m│\u001b[0m   \u001b[2m 79 \u001b[0m\u001b[2m│   \u001b[0m\u001b[94mif\u001b[0m \u001b[96misinstance\u001b[0m(f, (\u001b[96mstr\u001b[0m, pathlib.Path)):                                                 \u001b[31m│\u001b[0m\n",
       "\u001b[31m│\u001b[0m \u001b[31m❱ \u001b[0m 80 \u001b[2m│   │   \u001b[0mm.save(f, _extra_files=_extra_files)                                               \u001b[31m│\u001b[0m\n",
       "\u001b[31m│\u001b[0m   \u001b[2m 81 \u001b[0m\u001b[2m│   \u001b[0m\u001b[94melse\u001b[0m:                                                                                  \u001b[31m│\u001b[0m\n",
       "\u001b[31m│\u001b[0m   \u001b[2m 82 \u001b[0m\u001b[2m│   │   \u001b[0mret = m.save_to_buffer(_extra_files=_extra_files)                                  \u001b[31m│\u001b[0m\n",
       "\u001b[31m│\u001b[0m   \u001b[2m 83 \u001b[0m\u001b[2m│   │   \u001b[0mf.write(ret)                                                                       \u001b[31m│\u001b[0m\n",
       "\u001b[31m│\u001b[0m                                                                                                  \u001b[31m│\u001b[0m\n",
       "\u001b[31m│\u001b[0m \u001b[2;33m/opt/homebrew/lib/python3.11/site-packages/torch/jit/\u001b[0m\u001b[1;33m_script.py\u001b[0m:\u001b[94m713\u001b[0m in \u001b[92msave\u001b[0m                      \u001b[31m│\u001b[0m\n",
       "\u001b[31m│\u001b[0m                                                                                                  \u001b[31m│\u001b[0m\n",
       "\u001b[31m│\u001b[0m   \u001b[2m 710 \u001b[0m\u001b[2m│   │   │   \u001b[0m                                                                              \u001b[31m│\u001b[0m\n",
       "\u001b[31m│\u001b[0m   \u001b[2m 711 \u001b[0m\u001b[2;33m│   │   │   \u001b[0m\u001b[33mSee :func:`torch.jit.save <torch.jit.save>` for details.\u001b[0m                      \u001b[31m│\u001b[0m\n",
       "\u001b[31m│\u001b[0m   \u001b[2m 712 \u001b[0m\u001b[2;33m│   │   │   \u001b[0m\u001b[33m\"\"\"\u001b[0m                                                                           \u001b[31m│\u001b[0m\n",
       "\u001b[31m│\u001b[0m \u001b[31m❱ \u001b[0m 713 \u001b[2m│   │   │   \u001b[0m\u001b[94mreturn\u001b[0m \u001b[96mself\u001b[0m._c.save(\u001b[96mstr\u001b[0m(f), **kwargs)                                         \u001b[31m│\u001b[0m\n",
       "\u001b[31m│\u001b[0m   \u001b[2m 714 \u001b[0m\u001b[2m│   │   \u001b[0m                                                                                  \u001b[31m│\u001b[0m\n",
       "\u001b[31m│\u001b[0m   \u001b[2m 715 \u001b[0m\u001b[2m│   │   \u001b[0m\u001b[94mdef\u001b[0m \u001b[92m_save_for_lite_interpreter\u001b[0m(\u001b[96mself\u001b[0m, *args, **kwargs):                            \u001b[31m│\u001b[0m\n",
       "\u001b[31m│\u001b[0m   \u001b[2m 716 \u001b[0m\u001b[2;90m│   │   │   \u001b[0m\u001b[33mr\u001b[0m\u001b[33m\"\"\"\u001b[0m                                                                          \u001b[31m│\u001b[0m\n",
       "\u001b[31m╰──────────────────────────────────────────────────────────────────────────────────────────────────╯\u001b[0m\n",
       "\u001b[1;91mRuntimeError: \u001b[0m\n",
       "Could not export Python function call \u001b[32m'XSoftmax'\u001b[0m. Remove calls to Python functions before export. Did you forget to\n",
       "add @script or @script_method annotation? If this is a nn.ModuleList, add it to __constants__:\n",
       "\u001b[35m/opt/homebrew/lib/python3.11/site-packages/torch/autograd/\u001b[0m\u001b[95mfunction.py\u001b[0m\u001b[1m(\u001b[0m\u001b[1;36m506\u001b[0m\u001b[1m)\u001b[0m: apply\n",
       "\u001b[35m/opt/homebrew/lib/python3.11/site-packages/transformers/models/deberta/\u001b[0m\u001b[95mmodeling_deberta.py\u001b[0m\u001b[1m(\u001b[0m\u001b[1;36m676\u001b[0m\u001b[1m)\u001b[0m: forward\n",
       "\u001b[35m/opt/homebrew/lib/python3.11/site-packages/torch/nn/modules/\u001b[0m\u001b[95mmodule.py\u001b[0m\u001b[1m(\u001b[0m\u001b[1;36m1488\u001b[0m\u001b[1m)\u001b[0m: _slow_forward\n",
       "\u001b[35m/opt/homebrew/lib/python3.11/site-packages/torch/nn/modules/\u001b[0m\u001b[95mmodule.py\u001b[0m\u001b[1m(\u001b[0m\u001b[1;36m1501\u001b[0m\u001b[1m)\u001b[0m: _call_impl\n",
       "\u001b[35m/opt/homebrew/lib/python3.11/site-packages/transformers/models/deberta/\u001b[0m\u001b[95mmodeling_deberta.py\u001b[0m\u001b[1m(\u001b[0m\u001b[1;36m316\u001b[0m\u001b[1m)\u001b[0m: forward\n",
       "\u001b[35m/opt/homebrew/lib/python3.11/site-packages/torch/nn/modules/\u001b[0m\u001b[95mmodule.py\u001b[0m\u001b[1m(\u001b[0m\u001b[1;36m1488\u001b[0m\u001b[1m)\u001b[0m: _slow_forward\n",
       "\u001b[35m/opt/homebrew/lib/python3.11/site-packages/torch/nn/modules/\u001b[0m\u001b[95mmodule.py\u001b[0m\u001b[1m(\u001b[0m\u001b[1;36m1501\u001b[0m\u001b[1m)\u001b[0m: _call_impl\n",
       "\u001b[35m/opt/homebrew/lib/python3.11/site-packages/transformers/models/deberta/\u001b[0m\u001b[95mmodeling_deberta.py\u001b[0m\u001b[1m(\u001b[0m\u001b[1;36m383\u001b[0m\u001b[1m)\u001b[0m: forward\n",
       "\u001b[35m/opt/homebrew/lib/python3.11/site-packages/torch/nn/modules/\u001b[0m\u001b[95mmodule.py\u001b[0m\u001b[1m(\u001b[0m\u001b[1;36m1488\u001b[0m\u001b[1m)\u001b[0m: _slow_forward\n",
       "\u001b[35m/opt/homebrew/lib/python3.11/site-packages/torch/nn/modules/\u001b[0m\u001b[95mmodule.py\u001b[0m\u001b[1m(\u001b[0m\u001b[1;36m1501\u001b[0m\u001b[1m)\u001b[0m: _call_impl\n",
       "\u001b[35m/opt/homebrew/lib/python3.11/site-packages/transformers/models/deberta/\u001b[0m\u001b[95mmodeling_deberta.py\u001b[0m\u001b[1m(\u001b[0m\u001b[1;36m476\u001b[0m\u001b[1m)\u001b[0m: forward\n",
       "\u001b[35m/opt/homebrew/lib/python3.11/site-packages/torch/nn/modules/\u001b[0m\u001b[95mmodule.py\u001b[0m\u001b[1m(\u001b[0m\u001b[1;36m1488\u001b[0m\u001b[1m)\u001b[0m: _slow_forward\n",
       "\u001b[35m/opt/homebrew/lib/python3.11/site-packages/torch/nn/modules/\u001b[0m\u001b[95mmodule.py\u001b[0m\u001b[1m(\u001b[0m\u001b[1;36m1501\u001b[0m\u001b[1m)\u001b[0m: _call_impl\n",
       "\u001b[35m/opt/homebrew/lib/python3.11/site-packages/transformers/models/deberta/\u001b[0m\u001b[95mmodeling_deberta.py\u001b[0m\u001b[1m(\u001b[0m\u001b[1;36m982\u001b[0m\u001b[1m)\u001b[0m: forward\n",
       "\u001b[35m/opt/homebrew/lib/python3.11/site-packages/torch/nn/modules/\u001b[0m\u001b[95mmodule.py\u001b[0m\u001b[1m(\u001b[0m\u001b[1;36m1488\u001b[0m\u001b[1m)\u001b[0m: _slow_forward\n",
       "\u001b[35m/opt/homebrew/lib/python3.11/site-packages/torch/nn/modules/\u001b[0m\u001b[95mmodule.py\u001b[0m\u001b[1m(\u001b[0m\u001b[1;36m1501\u001b[0m\u001b[1m)\u001b[0m: _call_impl\n",
       "\u001b[35m/opt/homebrew/lib/python3.11/site-packages/transformers/models/deberta/\u001b[0m\u001b[95mmodeling_deberta.py\u001b[0m\u001b[1m(\u001b[0m\u001b[1;36m1210\u001b[0m\u001b[1m)\u001b[0m: forward\n",
       "\u001b[35m/opt/homebrew/lib/python3.11/site-packages/torch/nn/modules/\u001b[0m\u001b[95mmodule.py\u001b[0m\u001b[1m(\u001b[0m\u001b[1;36m1488\u001b[0m\u001b[1m)\u001b[0m: _slow_forward\n",
       "\u001b[35m/opt/homebrew/lib/python3.11/site-packages/torch/nn/modules/\u001b[0m\u001b[95mmodule.py\u001b[0m\u001b[1m(\u001b[0m\u001b[1;36m1501\u001b[0m\u001b[1m)\u001b[0m: _call_impl\n",
       "\u001b[35m/opt/homebrew/lib/python3.11/site-packages/torch/jit/\u001b[0m\u001b[95m_trace.py\u001b[0m\u001b[1m(\u001b[0m\u001b[1;36m1056\u001b[0m\u001b[1m)\u001b[0m: trace_module\n",
       "\u001b[35m/opt/homebrew/lib/python3.11/site-packages/torch/jit/\u001b[0m\u001b[95m_trace.py\u001b[0m\u001b[1m(\u001b[0m\u001b[1;36m794\u001b[0m\u001b[1m)\u001b[0m: trace\n",
       "\u001b[35m/var/folders/1w/vhx2qhwn39bcgx6_rl0052hh0000gr/T/ipykernel_90464/\u001b[0m\u001b[95m1166238069.py\u001b[0m\u001b[1m(\u001b[0m\u001b[1;36m2\u001b[0m\u001b[1m)\u001b[0m: \u001b[1m<\u001b[0m\u001b[1;95mcell\u001b[0m\u001b[39m line: \u001b[0m\u001b[1;36m0\u001b[0m\u001b[39m>\u001b[0m\n",
       "\u001b[35m/opt/homebrew/lib/python3.11/site-packages/IPython/core/\u001b[0m\u001b[95minteractiveshell.py\u001b[0m\u001b[1;39m(\u001b[0m\u001b[1;36m3553\u001b[0m\u001b[1;39m)\u001b[0m\u001b[39m: run_code\u001b[0m\n",
       "\u001b[35m/opt/homebrew/lib/python3.11/site-packages/IPython/core/\u001b[0m\u001b[95minteractiveshell.py\u001b[0m\u001b[1;39m(\u001b[0m\u001b[1;36m3473\u001b[0m\u001b[1;39m)\u001b[0m\u001b[39m: run_ast_nodes\u001b[0m\n",
       "\u001b[35m/opt/homebrew/lib/python3.11/site-packages/IPython/core/\u001b[0m\u001b[95minteractiveshell.py\u001b[0m\u001b[1;39m(\u001b[0m\u001b[1;36m3257\u001b[0m\u001b[1;39m)\u001b[0m\u001b[39m: run_cell_async\u001b[0m\n",
       "\u001b[35m/opt/homebrew/lib/python3.11/site-packages/IPython/core/\u001b[0m\u001b[95masync_helpers.py\u001b[0m\u001b[1;39m(\u001b[0m\u001b[1;36m78\u001b[0m\u001b[1;39m)\u001b[0m\u001b[39m: _pseudo_sync_runner\u001b[0m\n",
       "\u001b[35m/opt/homebrew/lib/python3.11/site-packages/IPython/core/\u001b[0m\u001b[95minteractiveshell.py\u001b[0m\u001b[1;39m(\u001b[0m\u001b[1;36m3030\u001b[0m\u001b[1;39m)\u001b[0m\u001b[39m: _run_cell\u001b[0m\n",
       "\u001b[35m/opt/homebrew/lib/python3.11/site-packages/IPython/core/\u001b[0m\u001b[95minteractiveshell.py\u001b[0m\u001b[1;39m(\u001b[0m\u001b[1;36m2975\u001b[0m\u001b[1;39m)\u001b[0m\u001b[39m: run_cell\u001b[0m\n",
       "\u001b[35m/opt/homebrew/lib/python3.11/site-packages/ipykernel/\u001b[0m\u001b[95mzmqshell.py\u001b[0m\u001b[1;39m(\u001b[0m\u001b[1;36m533\u001b[0m\u001b[1;39m)\u001b[0m\u001b[39m: run_cell\u001b[0m\n",
       "\u001b[35m/opt/homebrew/lib/python3.11/site-packages/ipykernel/\u001b[0m\u001b[95mipkernel.py\u001b[0m\u001b[1;39m(\u001b[0m\u001b[1;36m353\u001b[0m\u001b[1;39m)\u001b[0m\u001b[39m: do_execute\u001b[0m\n",
       "\u001b[35m/opt/homebrew/lib/python3.11/site-packages/ipykernel/\u001b[0m\u001b[95mkernelbase.py\u001b[0m\u001b[1;39m(\u001b[0m\u001b[1;36m648\u001b[0m\u001b[1;39m)\u001b[0m\u001b[39m: execute_request\u001b[0m\n",
       "\u001b[35m/opt/homebrew/lib/python3.11/site-packages/ipykernel/\u001b[0m\u001b[95mkernelbase.py\u001b[0m\u001b[1;39m(\u001b[0m\u001b[1;36m353\u001b[0m\u001b[1;39m)\u001b[0m\u001b[39m: dispatch_shell\u001b[0m\n",
       "\u001b[35m/opt/homebrew/lib/python3.11/site-packages/ipykernel/\u001b[0m\u001b[95mkernelbase.py\u001b[0m\u001b[1;39m(\u001b[0m\u001b[1;36m446\u001b[0m\u001b[1;39m)\u001b[0m\u001b[39m: process_one\u001b[0m\n",
       "\u001b[35m/opt/homebrew/lib/python3.11/site-packages/ipykernel/\u001b[0m\u001b[95mkernelbase.py\u001b[0m\u001b[1;39m(\u001b[0m\u001b[1;36m457\u001b[0m\u001b[1;39m)\u001b[0m\u001b[39m: dispatch_queue\u001b[0m\n",
       "\u001b[35m/opt/homebrew/Cellar/\u001b[0m\u001b[95mpython\u001b[0m\u001b[39m@\u001b[0m\u001b[1;36m3.11\u001b[0m\u001b[39m/\u001b[0m\u001b[1;36m3.11\u001b[0m\u001b[39m.\u001b[0m\u001b[1;36m4\u001b[0m\u001b[39m/Frameworks/Python.framework/Versions/\u001b[0m\u001b[1;36m3.11\u001b[0m\u001b[39m/lib/python3.\u001b[0m\u001b[1;36m11\u001b[0m\u001b[39m/asyncio/\u001b[0m\u001b[1;35mevents.py\u001b[0m\u001b[1;39m(\u001b[0m\n",
       "\u001b[1;36m80\u001b[0m\u001b[1;39m)\u001b[0m\u001b[39m: _run\u001b[0m\n",
       "\u001b[35m/opt/homebrew/Cellar/\u001b[0m\u001b[95mpython\u001b[0m\u001b[39m@\u001b[0m\u001b[1;36m3.11\u001b[0m\u001b[39m/\u001b[0m\u001b[1;36m3.11\u001b[0m\u001b[39m.\u001b[0m\u001b[1;36m4\u001b[0m\u001b[39m/Frameworks/Python.framework/Versions/\u001b[0m\u001b[1;36m3.11\u001b[0m\u001b[39m/lib/python3.\u001b[0m\u001b[1;36m11\u001b[0m\u001b[39m/asyncio/\u001b[0m\u001b[1;35mbase_event\u001b[0m\n",
       "\u001b[1;35ms.py\u001b[0m\u001b[1;39m(\u001b[0m\u001b[1;36m1922\u001b[0m\u001b[1;39m)\u001b[0m\u001b[39m: _run_once\u001b[0m\n",
       "\u001b[35m/opt/homebrew/Cellar/\u001b[0m\u001b[95mpython\u001b[0m\u001b[39m@\u001b[0m\u001b[1;36m3.11\u001b[0m\u001b[39m/\u001b[0m\u001b[1;36m3.11\u001b[0m\u001b[39m.\u001b[0m\u001b[1;36m4\u001b[0m\u001b[39m/Frameworks/Python.framework/Versions/\u001b[0m\u001b[1;36m3.11\u001b[0m\u001b[39m/lib/python3.\u001b[0m\u001b[1;36m11\u001b[0m\u001b[39m/asyncio/\u001b[0m\u001b[1;35mbase_event\u001b[0m\n",
       "\u001b[1;35ms.py\u001b[0m\u001b[1;39m(\u001b[0m\u001b[1;36m607\u001b[0m\u001b[1;39m)\u001b[0m\u001b[39m: run_forever\u001b[0m\n",
       "\u001b[35m/opt/homebrew/lib/python3.11/site-packages/tornado/platform/\u001b[0m\u001b[95masyncio.py\u001b[0m\u001b[1;39m(\u001b[0m\u001b[1;36m195\u001b[0m\u001b[1;39m)\u001b[0m\u001b[39m: start\u001b[0m\n",
       "\u001b[35m/opt/homebrew/lib/python3.11/site-packages/ipykernel/\u001b[0m\u001b[95mkernelapp.py\u001b[0m\u001b[1;39m(\u001b[0m\u001b[1;36m677\u001b[0m\u001b[1;39m)\u001b[0m\u001b[39m: start\u001b[0m\n",
       "\u001b[35m/opt/homebrew/lib/python3.11/site-packages/traitlets/config/\u001b[0m\u001b[95mapplication.py\u001b[0m\u001b[1;39m(\u001b[0m\u001b[1;36m845\u001b[0m\u001b[1;39m)\u001b[0m\u001b[39m: launch_instance\u001b[0m\n",
       "\u001b[35m/opt/homebrew/lib/python3.11/site-packages/\u001b[0m\u001b[95mipykernel_launcher.py\u001b[0m\u001b[1;39m(\u001b[0m\u001b[1;36m16\u001b[0m\u001b[1;39m)\u001b[0m\u001b[39m: <module>\u001b[0m\n",
       "\u001b[39m<frozen runpy>\u001b[0m\u001b[1;39m(\u001b[0m\u001b[1;36m88\u001b[0m\u001b[1;39m)\u001b[0m\u001b[39m: _run_code\u001b[0m\n",
       "\u001b[39m<frozen runpy\u001b[0m\u001b[1m>\u001b[0m\u001b[1m(\u001b[0m\u001b[1;36m198\u001b[0m\u001b[1m)\u001b[0m: _run_module_as_main\n",
       "\n"
      ]
     },
     "metadata": {},
     "output_type": "display_data"
    }
   ],
   "source": [
    "ex_input = (features[\"input_ids\"], features[\"token_type_ids\"], features[\"attention_mask\"])\n",
    "traced_model = torch.jit.trace(model, ex_input, strict=False)\n",
    "torch.jit.save(traced_model, \"traced_cross_encoder.pt\")"
   ]
  },
  {
   "cell_type": "code",
   "execution_count": 5,
   "id": "9bcd6125",
   "metadata": {},
   "outputs": [
    {
     "data": {
      "text/html": [
       "<pre style=\"white-space:pre;overflow-x:auto;line-height:normal;font-family:Menlo,'DejaVu Sans Mono',consolas,'Courier New',monospace\"><span style=\"color: #800000; text-decoration-color: #800000\">╭─────────────────────────────── </span><span style=\"color: #800000; text-decoration-color: #800000; font-weight: bold\">Traceback </span><span style=\"color: #bf7f7f; text-decoration-color: #bf7f7f; font-weight: bold\">(most recent call last)</span><span style=\"color: #800000; text-decoration-color: #800000\"> ────────────────────────────────╮</span>\n",
       "<span style=\"color: #800000; text-decoration-color: #800000\">│</span> in <span style=\"color: #00ff00; text-decoration-color: #00ff00\">&lt;cell line: 0&gt;</span>:<span style=\"color: #0000ff; text-decoration-color: #0000ff\">1</span>                                                                              <span style=\"color: #800000; text-decoration-color: #800000\">│</span>\n",
       "<span style=\"color: #800000; text-decoration-color: #800000\">│</span>                                                                                                  <span style=\"color: #800000; text-decoration-color: #800000\">│</span>\n",
       "<span style=\"color: #800000; text-decoration-color: #800000\">│</span> <span style=\"color: #800000; text-decoration-color: #800000\">❱ </span>1 loaded_model = torch.jit.load(<span style=\"color: #808000; text-decoration-color: #808000\">\"traced_cross_encoder.pt\"</span>)                                     <span style=\"color: #800000; text-decoration-color: #800000\">│</span>\n",
       "<span style=\"color: #800000; text-decoration-color: #800000\">│</span>   <span style=\"color: #7f7f7f; text-decoration-color: #7f7f7f\">2 </span>loaded_model.eval()                                                                          <span style=\"color: #800000; text-decoration-color: #800000\">│</span>\n",
       "<span style=\"color: #800000; text-decoration-color: #800000\">│</span>   <span style=\"color: #7f7f7f; text-decoration-color: #7f7f7f\">3 </span>                                                                                             <span style=\"color: #800000; text-decoration-color: #800000\">│</span>\n",
       "<span style=\"color: #800000; text-decoration-color: #800000\">│</span>                                                                                                  <span style=\"color: #800000; text-decoration-color: #800000\">│</span>\n",
       "<span style=\"color: #800000; text-decoration-color: #800000\">│</span> <span style=\"color: #bfbf7f; text-decoration-color: #bfbf7f\">/opt/homebrew/lib/python3.11/site-packages/torch/jit/</span><span style=\"color: #808000; text-decoration-color: #808000; font-weight: bold\">_serialization.py</span>:<span style=\"color: #0000ff; text-decoration-color: #0000ff\">162</span> in <span style=\"color: #00ff00; text-decoration-color: #00ff00\">load</span>               <span style=\"color: #800000; text-decoration-color: #800000\">│</span>\n",
       "<span style=\"color: #800000; text-decoration-color: #800000\">│</span>                                                                                                  <span style=\"color: #800000; text-decoration-color: #800000\">│</span>\n",
       "<span style=\"color: #800000; text-decoration-color: #800000\">│</span>   <span style=\"color: #7f7f7f; text-decoration-color: #7f7f7f\">159 </span><span style=\"color: #7f7f7f; text-decoration-color: #7f7f7f\">│   </span>                                                                                       <span style=\"color: #800000; text-decoration-color: #800000\">│</span>\n",
       "<span style=\"color: #800000; text-decoration-color: #800000\">│</span>   <span style=\"color: #7f7f7f; text-decoration-color: #7f7f7f\">160 </span><span style=\"color: #7f7f7f; text-decoration-color: #7f7f7f\">│   </span>cu = torch._C.CompilationUnit()                                                        <span style=\"color: #800000; text-decoration-color: #800000\">│</span>\n",
       "<span style=\"color: #800000; text-decoration-color: #800000\">│</span>   <span style=\"color: #7f7f7f; text-decoration-color: #7f7f7f\">161 </span><span style=\"color: #7f7f7f; text-decoration-color: #7f7f7f\">│   </span><span style=\"color: #0000ff; text-decoration-color: #0000ff\">if</span> <span style=\"color: #00ffff; text-decoration-color: #00ffff\">isinstance</span>(f, (<span style=\"color: #00ffff; text-decoration-color: #00ffff\">str</span>, pathlib.Path)):                                                 <span style=\"color: #800000; text-decoration-color: #800000\">│</span>\n",
       "<span style=\"color: #800000; text-decoration-color: #800000\">│</span> <span style=\"color: #800000; text-decoration-color: #800000\">❱ </span>162 <span style=\"color: #7f7f7f; text-decoration-color: #7f7f7f\">│   │   </span>cpp_module = torch._C.import_ir_module(cu, <span style=\"color: #00ffff; text-decoration-color: #00ffff\">str</span>(f), map_location, _extra_files, _   <span style=\"color: #800000; text-decoration-color: #800000\">│</span>\n",
       "<span style=\"color: #800000; text-decoration-color: #800000\">│</span>   <span style=\"color: #7f7f7f; text-decoration-color: #7f7f7f\">163 </span><span style=\"color: #7f7f7f; text-decoration-color: #7f7f7f\">│   </span><span style=\"color: #0000ff; text-decoration-color: #0000ff\">else</span>:                                                                                  <span style=\"color: #800000; text-decoration-color: #800000\">│</span>\n",
       "<span style=\"color: #800000; text-decoration-color: #800000\">│</span>   <span style=\"color: #7f7f7f; text-decoration-color: #7f7f7f\">164 </span><span style=\"color: #7f7f7f; text-decoration-color: #7f7f7f\">│   │   </span>cpp_module = torch._C.import_ir_module_from_buffer(                                <span style=\"color: #800000; text-decoration-color: #800000\">│</span>\n",
       "<span style=\"color: #800000; text-decoration-color: #800000\">│</span>   <span style=\"color: #7f7f7f; text-decoration-color: #7f7f7f\">165 </span><span style=\"color: #7f7f7f; text-decoration-color: #7f7f7f\">│   │   │   </span>cu, f.read(), map_location, _extra_files, _restore_shapes                      <span style=\"color: #800000; text-decoration-color: #800000\">│</span>\n",
       "<span style=\"color: #800000; text-decoration-color: #800000\">╰──────────────────────────────────────────────────────────────────────────────────────────────────╯</span>\n",
       "<span style=\"color: #ff0000; text-decoration-color: #ff0000; font-weight: bold\">RuntimeError: </span>PytorchStreamReader failed locating file constants.pkl: file not found\n",
       "</pre>\n"
      ],
      "text/plain": [
       "\u001b[31m╭─\u001b[0m\u001b[31m──────────────────────────────\u001b[0m\u001b[31m \u001b[0m\u001b[1;31mTraceback \u001b[0m\u001b[1;2;31m(most recent call last)\u001b[0m\u001b[31m \u001b[0m\u001b[31m───────────────────────────────\u001b[0m\u001b[31m─╮\u001b[0m\n",
       "\u001b[31m│\u001b[0m in \u001b[92m<cell line: 0>\u001b[0m:\u001b[94m1\u001b[0m                                                                              \u001b[31m│\u001b[0m\n",
       "\u001b[31m│\u001b[0m                                                                                                  \u001b[31m│\u001b[0m\n",
       "\u001b[31m│\u001b[0m \u001b[31m❱ \u001b[0m1 loaded_model = torch.jit.load(\u001b[33m\"\u001b[0m\u001b[33mtraced_cross_encoder.pt\u001b[0m\u001b[33m\"\u001b[0m)                                     \u001b[31m│\u001b[0m\n",
       "\u001b[31m│\u001b[0m   \u001b[2m2 \u001b[0mloaded_model.eval()                                                                          \u001b[31m│\u001b[0m\n",
       "\u001b[31m│\u001b[0m   \u001b[2m3 \u001b[0m                                                                                             \u001b[31m│\u001b[0m\n",
       "\u001b[31m│\u001b[0m                                                                                                  \u001b[31m│\u001b[0m\n",
       "\u001b[31m│\u001b[0m \u001b[2;33m/opt/homebrew/lib/python3.11/site-packages/torch/jit/\u001b[0m\u001b[1;33m_serialization.py\u001b[0m:\u001b[94m162\u001b[0m in \u001b[92mload\u001b[0m               \u001b[31m│\u001b[0m\n",
       "\u001b[31m│\u001b[0m                                                                                                  \u001b[31m│\u001b[0m\n",
       "\u001b[31m│\u001b[0m   \u001b[2m159 \u001b[0m\u001b[2m│   \u001b[0m                                                                                       \u001b[31m│\u001b[0m\n",
       "\u001b[31m│\u001b[0m   \u001b[2m160 \u001b[0m\u001b[2m│   \u001b[0mcu = torch._C.CompilationUnit()                                                        \u001b[31m│\u001b[0m\n",
       "\u001b[31m│\u001b[0m   \u001b[2m161 \u001b[0m\u001b[2m│   \u001b[0m\u001b[94mif\u001b[0m \u001b[96misinstance\u001b[0m(f, (\u001b[96mstr\u001b[0m, pathlib.Path)):                                                 \u001b[31m│\u001b[0m\n",
       "\u001b[31m│\u001b[0m \u001b[31m❱ \u001b[0m162 \u001b[2m│   │   \u001b[0mcpp_module = torch._C.import_ir_module(cu, \u001b[96mstr\u001b[0m(f), map_location, _extra_files, _   \u001b[31m│\u001b[0m\n",
       "\u001b[31m│\u001b[0m   \u001b[2m163 \u001b[0m\u001b[2m│   \u001b[0m\u001b[94melse\u001b[0m:                                                                                  \u001b[31m│\u001b[0m\n",
       "\u001b[31m│\u001b[0m   \u001b[2m164 \u001b[0m\u001b[2m│   │   \u001b[0mcpp_module = torch._C.import_ir_module_from_buffer(                                \u001b[31m│\u001b[0m\n",
       "\u001b[31m│\u001b[0m   \u001b[2m165 \u001b[0m\u001b[2m│   │   │   \u001b[0mcu, f.read(), map_location, _extra_files, _restore_shapes                      \u001b[31m│\u001b[0m\n",
       "\u001b[31m╰──────────────────────────────────────────────────────────────────────────────────────────────────╯\u001b[0m\n",
       "\u001b[1;91mRuntimeError: \u001b[0mPytorchStreamReader failed locating file constants.pkl: file not found\n"
      ]
     },
     "metadata": {},
     "output_type": "display_data"
    }
   ],
   "source": [
    "loaded_model = torch.jit.load(\"traced_cross_encoder.pt\")\n",
    "loaded_model.eval()"
   ]
  },
  {
   "cell_type": "code",
   "execution_count": null,
   "id": "42d25d77",
   "metadata": {},
   "outputs": [],
   "source": [
    "test_features = tokenizer(test_sentences,  padding=True, truncation=True, return_tensors=\"pt\")\n",
    "pt_prediction = loaded_model(**test_features)\n",
    "pt_prediction"
   ]
  },
  {
   "cell_type": "code",
   "execution_count": null,
   "id": "4421b025",
   "metadata": {},
   "outputs": [],
   "source": [
    "from torch import nn\n",
    "default_activation_function = nn.Identity() # nn.Sigmoid() if config.num_labels == 1 else nn.Identity()\n",
    "activation_fct = default_activation_function\n",
    "logits = activation_fct(pt_prediction['logits'])"
   ]
  },
  {
   "cell_type": "code",
   "execution_count": null,
   "id": "bd39248a",
   "metadata": {},
   "outputs": [],
   "source": [
    "logits"
   ]
  },
  {
   "cell_type": "code",
   "execution_count": null,
   "id": "5a9c4e1a",
   "metadata": {},
   "outputs": [],
   "source": [
    "label_mapping = ['contradiction', 'entailment', 'neutral']\n",
    "labels = [label_mapping[score_max] for score_max in logits.argmax(dim=1)]\n",
    "print(labels)"
   ]
  },
  {
   "cell_type": "markdown",
   "id": "a549e19f",
   "metadata": {},
   "source": [
    "# Compare Output"
   ]
  },
  {
   "cell_type": "code",
   "execution_count": 11,
   "id": "8b394417",
   "metadata": {},
   "outputs": [
    {
     "name": "stdout",
     "output_type": "stream",
     "text": [
      "[[-3.381288    3.6616564  -1.1681075 ]\n",
      " [ 3.9306588  -4.44145     0.85258216]]\n",
      "['entailment', 'contradiction']\n"
     ]
    }
   ],
   "source": [
    "from sentence_transformers import CrossEncoder\n",
    "model = CrossEncoder(model_id)\n",
    "scores = model.predict(test_sentences)\n",
    "print(scores)\n",
    "\n",
    "label_mapping = ['contradiction', 'entailment', 'neutral']\n",
    "labels = [label_mapping[score_max] for score_max in scores.argmax(axis=1)]\n",
    "print(labels)"
   ]
  },
  {
   "cell_type": "code",
   "execution_count": 24,
   "id": "b868fc1a",
   "metadata": {},
   "outputs": [],
   "source": [
    "from transformers import AutoConfig, AutoTokenizer, AutoModelForSequenceClassification\n",
    "import torch\n",
    "\n",
    "config = AutoConfig.from_pretrained(model_id)\n",
    "model = AutoModelForSequenceClassification.from_pretrained(model_id, config=config)\n",
    "tokenizer = AutoTokenizer.from_pretrained(model_id)\n",
    "max_length = 512"
   ]
  },
  {
   "cell_type": "code",
   "execution_count": 25,
   "id": "8f521d44",
   "metadata": {},
   "outputs": [],
   "source": [
    "from torch.utils.data import DataLoader\n",
    "\n",
    "def smart_batching_collate_text_only(batch):\n",
    "    texts = [[] for _ in range(len(batch[0]))]\n",
    "\n",
    "    for example in batch:\n",
    "        for idx, text in enumerate(example):\n",
    "            texts[idx].append(text.strip())\n",
    "\n",
    "    tokenized = tokenizer(*texts, padding=True, truncation='longest_first', return_tensors=\"pt\", max_length=max_length)\n",
    "\n",
    "    for name in tokenized:\n",
    "        tokenized[name] = tokenized[name].to('cpu')\n",
    "\n",
    "    return tokenized\n",
    "\n",
    "inp_dataloader = DataLoader(test_sentences, batch_size=32, collate_fn=smart_batching_collate_text_only, num_workers=0, shuffle=False)"
   ]
  },
  {
   "cell_type": "code",
   "execution_count": 26,
   "id": "df152f74",
   "metadata": {},
   "outputs": [
    {
     "data": {
      "text/plain": [
       "<torch.utils.data.dataloader.DataLoader at 0x28265ffd0>"
      ]
     },
     "execution_count": 26,
     "metadata": {},
     "output_type": "execute_result"
    }
   ],
   "source": [
    "inp_dataloader"
   ]
  },
  {
   "cell_type": "code",
   "execution_count": 27,
   "id": "e75282c2",
   "metadata": {},
   "outputs": [],
   "source": [
    "from torch import nn\n",
    "default_activation_function = nn.Identity() # nn.Sigmoid() if config.num_labels == 1 else "
   ]
  },
  {
   "cell_type": "code",
   "execution_count": 29,
   "id": "028ea369",
   "metadata": {},
   "outputs": [
    {
     "name": "stdout",
     "output_type": "stream",
     "text": [
      "[[-3.381288    3.6616564  -1.1681075 ]\n",
      " [ 3.9306588  -4.44145     0.85258216]]\n",
      "['entailment', 'contradiction']\n"
     ]
    }
   ],
   "source": [
    "import numpy as np\n",
    "iterator = inp_dataloader\n",
    "activation_fct = None\n",
    "\n",
    "if activation_fct is None:\n",
    "    activation_fct = default_activation_function\n",
    "\n",
    "pred_scores = []\n",
    "model.eval()\n",
    "model.to('cpu')\n",
    "with torch.no_grad():\n",
    "    for features in iterator:\n",
    "        model_predictions = model(**features, return_dict=True)\n",
    "        logits = activation_fct(model_predictions.logits)\n",
    "\n",
    "#         if apply_softmax and len(logits[0]) > 1:\n",
    "#             logits = torch.nn.functional.softmax(logits, dim=1)\n",
    "        pred_scores.extend(logits)\n",
    "\n",
    "pred_scores = np.array(pred_scores)\n",
    "print(pred_scores)\n",
    "label_mapping = ['contradiction', 'entailment', 'neutral']\n",
    "labels = [label_mapping[score_max] for score_max in pred_scores.argmax(axis=1)]\n",
    "print(labels)"
   ]
  }
 ],
 "metadata": {
  "kernelspec": {
   "display_name": "Python 3 (ipykernel)",
   "language": "python",
   "name": "python3"
  },
  "language_info": {
   "codemirror_mode": {
    "name": "ipython",
    "version": 3
   },
   "file_extension": ".py",
   "mimetype": "text/x-python",
   "name": "python",
   "nbconvert_exporter": "python",
   "pygments_lexer": "ipython3",
   "version": "3.11.4"
  }
 },
 "nbformat": 4,
 "nbformat_minor": 5
}

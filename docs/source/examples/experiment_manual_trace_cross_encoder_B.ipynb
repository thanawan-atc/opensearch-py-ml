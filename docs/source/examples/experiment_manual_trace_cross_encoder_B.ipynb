{
 "cells": [
  {
   "cell_type": "markdown",
   "id": "25e1f769",
   "metadata": {},
   "source": [
    "# Trace Cross Encoder"
   ]
  },
  {
   "cell_type": "code",
   "execution_count": 1,
   "id": "77a683d9",
   "metadata": {},
   "outputs": [],
   "source": [
    "model_id = \"cross-encoder/stsb-roberta-base\"\n",
    "test_sentences = [('How many people live in Berlin?', 'How many people live in Berlin?'), ('Berlin has a population of 3,520,031 registered inhabitants in an area of 891.82 square kilometers.', 'New York City is famous for the Metropolitan Museum of Art.')]"
   ]
  },
  {
   "cell_type": "code",
   "execution_count": 2,
   "id": "b80cb404",
   "metadata": {},
   "outputs": [
    {
     "data": {
      "application/vnd.jupyter.widget-view+json": {
       "model_id": "c7b2bb3c72ca41a1adc313c3cbef967c",
       "version_major": 2,
       "version_minor": 0
      },
      "text/plain": [
       "Downloading (…)lve/main/config.json:   0%|          | 0.00/608 [00:00<?, ?B/s]"
      ]
     },
     "metadata": {},
     "output_type": "display_data"
    },
    {
     "data": {
      "application/vnd.jupyter.widget-view+json": {
       "model_id": "e5a2f24931284841bd2b10a4c2f28b76",
       "version_major": 2,
       "version_minor": 0
      },
      "text/plain": [
       "Downloading pytorch_model.bin:   0%|          | 0.00/499M [00:00<?, ?B/s]"
      ]
     },
     "metadata": {},
     "output_type": "display_data"
    },
    {
     "data": {
      "application/vnd.jupyter.widget-view+json": {
       "model_id": "f911b14ac2b346098f8a5f58acf3cc6d",
       "version_major": 2,
       "version_minor": 0
      },
      "text/plain": [
       "Downloading (…)okenizer_config.json:   0%|          | 0.00/142 [00:00<?, ?B/s]"
      ]
     },
     "metadata": {},
     "output_type": "display_data"
    },
    {
     "data": {
      "application/vnd.jupyter.widget-view+json": {
       "model_id": "02d7f0649a564ff0a846db36a3665114",
       "version_major": 2,
       "version_minor": 0
      },
      "text/plain": [
       "Downloading (…)olve/main/vocab.json:   0%|          | 0.00/899k [00:00<?, ?B/s]"
      ]
     },
     "metadata": {},
     "output_type": "display_data"
    },
    {
     "data": {
      "application/vnd.jupyter.widget-view+json": {
       "model_id": "92c144cf0f1542b9b224ccbf7f3d4452",
       "version_major": 2,
       "version_minor": 0
      },
      "text/plain": [
       "Downloading (…)olve/main/merges.txt:   0%|          | 0.00/456k [00:00<?, ?B/s]"
      ]
     },
     "metadata": {},
     "output_type": "display_data"
    },
    {
     "data": {
      "application/vnd.jupyter.widget-view+json": {
       "model_id": "16826c46cbd6451d999dc2a4d19b45ed",
       "version_major": 2,
       "version_minor": 0
      },
      "text/plain": [
       "Downloading (…)cial_tokens_map.json:   0%|          | 0.00/772 [00:00<?, ?B/s]"
      ]
     },
     "metadata": {},
     "output_type": "display_data"
    }
   ],
   "source": [
    "import torch\n",
    "from sentence_transformers import CrossEncoder\n",
    "from transformers import AutoTokenizer, AutoModelForSequenceClassification\n",
    "import torch\n",
    "\n",
    "model = AutoModelForSequenceClassification.from_pretrained(model_id)\n",
    "model.eval()\n",
    "tokenizer = AutoTokenizer.from_pretrained(model_id)\n",
    "features = tokenizer([('Query', 'Paragraph1'), ('Query', 'Paragraph2') , ('Query', 'Paragraph3')],  padding=True, truncation=True, return_tensors=\"pt\")"
   ]
  },
  {
   "cell_type": "code",
   "execution_count": 3,
   "id": "c5fa5df9",
   "metadata": {},
   "outputs": [
    {
     "data": {
      "text/plain": [
       "{'input_ids': tensor([[    0, 48382,     2,     2, 22011, 44947,   134,     2],\n",
       "        [    0, 48382,     2,     2, 22011, 44947,   176,     2],\n",
       "        [    0, 48382,     2,     2, 22011, 44947,   246,     2]]), 'attention_mask': tensor([[1, 1, 1, 1, 1, 1, 1, 1],\n",
       "        [1, 1, 1, 1, 1, 1, 1, 1],\n",
       "        [1, 1, 1, 1, 1, 1, 1, 1]])}"
      ]
     },
     "execution_count": 3,
     "metadata": {},
     "output_type": "execute_result"
    }
   ],
   "source": [
    "features"
   ]
  },
  {
   "cell_type": "code",
   "execution_count": 5,
   "id": "cd42b68b",
   "metadata": {},
   "outputs": [],
   "source": [
    "ex_input = (features[\"input_ids\"], features[\"attention_mask\"])\n",
    "traced_model = torch.jit.trace(model, ex_input, strict=False)\n",
    "torch.jit.save(traced_model, \"traced_cross_encoder.pt\")"
   ]
  },
  {
   "cell_type": "code",
   "execution_count": 6,
   "id": "9bcd6125",
   "metadata": {},
   "outputs": [
    {
     "data": {
      "text/plain": [
       "RecursiveScriptModule(\n",
       "  original_name=RobertaForSequenceClassification\n",
       "  (roberta): RecursiveScriptModule(\n",
       "    original_name=RobertaModel\n",
       "    (embeddings): RecursiveScriptModule(\n",
       "      original_name=RobertaEmbeddings\n",
       "      (word_embeddings): RecursiveScriptModule(original_name=Embedding)\n",
       "      (position_embeddings): RecursiveScriptModule(original_name=Embedding)\n",
       "      (token_type_embeddings): RecursiveScriptModule(original_name=Embedding)\n",
       "      (LayerNorm): RecursiveScriptModule(original_name=LayerNorm)\n",
       "      (dropout): RecursiveScriptModule(original_name=Dropout)\n",
       "    )\n",
       "    (encoder): RecursiveScriptModule(\n",
       "      original_name=RobertaEncoder\n",
       "      (layer): RecursiveScriptModule(\n",
       "        original_name=ModuleList\n",
       "        (0): RecursiveScriptModule(\n",
       "          original_name=RobertaLayer\n",
       "          (attention): RecursiveScriptModule(\n",
       "            original_name=RobertaAttention\n",
       "            (self): RecursiveScriptModule(\n",
       "              original_name=RobertaSelfAttention\n",
       "              (query): RecursiveScriptModule(original_name=Linear)\n",
       "              (key): RecursiveScriptModule(original_name=Linear)\n",
       "              (value): RecursiveScriptModule(original_name=Linear)\n",
       "              (dropout): RecursiveScriptModule(original_name=Dropout)\n",
       "            )\n",
       "            (output): RecursiveScriptModule(\n",
       "              original_name=RobertaSelfOutput\n",
       "              (dense): RecursiveScriptModule(original_name=Linear)\n",
       "              (LayerNorm): RecursiveScriptModule(original_name=LayerNorm)\n",
       "              (dropout): RecursiveScriptModule(original_name=Dropout)\n",
       "            )\n",
       "          )\n",
       "          (intermediate): RecursiveScriptModule(\n",
       "            original_name=RobertaIntermediate\n",
       "            (dense): RecursiveScriptModule(original_name=Linear)\n",
       "            (intermediate_act_fn): RecursiveScriptModule(original_name=GELUActivation)\n",
       "          )\n",
       "          (output): RecursiveScriptModule(\n",
       "            original_name=RobertaOutput\n",
       "            (dense): RecursiveScriptModule(original_name=Linear)\n",
       "            (LayerNorm): RecursiveScriptModule(original_name=LayerNorm)\n",
       "            (dropout): RecursiveScriptModule(original_name=Dropout)\n",
       "          )\n",
       "        )\n",
       "        (1): RecursiveScriptModule(\n",
       "          original_name=RobertaLayer\n",
       "          (attention): RecursiveScriptModule(\n",
       "            original_name=RobertaAttention\n",
       "            (self): RecursiveScriptModule(\n",
       "              original_name=RobertaSelfAttention\n",
       "              (query): RecursiveScriptModule(original_name=Linear)\n",
       "              (key): RecursiveScriptModule(original_name=Linear)\n",
       "              (value): RecursiveScriptModule(original_name=Linear)\n",
       "              (dropout): RecursiveScriptModule(original_name=Dropout)\n",
       "            )\n",
       "            (output): RecursiveScriptModule(\n",
       "              original_name=RobertaSelfOutput\n",
       "              (dense): RecursiveScriptModule(original_name=Linear)\n",
       "              (LayerNorm): RecursiveScriptModule(original_name=LayerNorm)\n",
       "              (dropout): RecursiveScriptModule(original_name=Dropout)\n",
       "            )\n",
       "          )\n",
       "          (intermediate): RecursiveScriptModule(\n",
       "            original_name=RobertaIntermediate\n",
       "            (dense): RecursiveScriptModule(original_name=Linear)\n",
       "            (intermediate_act_fn): RecursiveScriptModule(original_name=GELUActivation)\n",
       "          )\n",
       "          (output): RecursiveScriptModule(\n",
       "            original_name=RobertaOutput\n",
       "            (dense): RecursiveScriptModule(original_name=Linear)\n",
       "            (LayerNorm): RecursiveScriptModule(original_name=LayerNorm)\n",
       "            (dropout): RecursiveScriptModule(original_name=Dropout)\n",
       "          )\n",
       "        )\n",
       "        (2): RecursiveScriptModule(\n",
       "          original_name=RobertaLayer\n",
       "          (attention): RecursiveScriptModule(\n",
       "            original_name=RobertaAttention\n",
       "            (self): RecursiveScriptModule(\n",
       "              original_name=RobertaSelfAttention\n",
       "              (query): RecursiveScriptModule(original_name=Linear)\n",
       "              (key): RecursiveScriptModule(original_name=Linear)\n",
       "              (value): RecursiveScriptModule(original_name=Linear)\n",
       "              (dropout): RecursiveScriptModule(original_name=Dropout)\n",
       "            )\n",
       "            (output): RecursiveScriptModule(\n",
       "              original_name=RobertaSelfOutput\n",
       "              (dense): RecursiveScriptModule(original_name=Linear)\n",
       "              (LayerNorm): RecursiveScriptModule(original_name=LayerNorm)\n",
       "              (dropout): RecursiveScriptModule(original_name=Dropout)\n",
       "            )\n",
       "          )\n",
       "          (intermediate): RecursiveScriptModule(\n",
       "            original_name=RobertaIntermediate\n",
       "            (dense): RecursiveScriptModule(original_name=Linear)\n",
       "            (intermediate_act_fn): RecursiveScriptModule(original_name=GELUActivation)\n",
       "          )\n",
       "          (output): RecursiveScriptModule(\n",
       "            original_name=RobertaOutput\n",
       "            (dense): RecursiveScriptModule(original_name=Linear)\n",
       "            (LayerNorm): RecursiveScriptModule(original_name=LayerNorm)\n",
       "            (dropout): RecursiveScriptModule(original_name=Dropout)\n",
       "          )\n",
       "        )\n",
       "        (3): RecursiveScriptModule(\n",
       "          original_name=RobertaLayer\n",
       "          (attention): RecursiveScriptModule(\n",
       "            original_name=RobertaAttention\n",
       "            (self): RecursiveScriptModule(\n",
       "              original_name=RobertaSelfAttention\n",
       "              (query): RecursiveScriptModule(original_name=Linear)\n",
       "              (key): RecursiveScriptModule(original_name=Linear)\n",
       "              (value): RecursiveScriptModule(original_name=Linear)\n",
       "              (dropout): RecursiveScriptModule(original_name=Dropout)\n",
       "            )\n",
       "            (output): RecursiveScriptModule(\n",
       "              original_name=RobertaSelfOutput\n",
       "              (dense): RecursiveScriptModule(original_name=Linear)\n",
       "              (LayerNorm): RecursiveScriptModule(original_name=LayerNorm)\n",
       "              (dropout): RecursiveScriptModule(original_name=Dropout)\n",
       "            )\n",
       "          )\n",
       "          (intermediate): RecursiveScriptModule(\n",
       "            original_name=RobertaIntermediate\n",
       "            (dense): RecursiveScriptModule(original_name=Linear)\n",
       "            (intermediate_act_fn): RecursiveScriptModule(original_name=GELUActivation)\n",
       "          )\n",
       "          (output): RecursiveScriptModule(\n",
       "            original_name=RobertaOutput\n",
       "            (dense): RecursiveScriptModule(original_name=Linear)\n",
       "            (LayerNorm): RecursiveScriptModule(original_name=LayerNorm)\n",
       "            (dropout): RecursiveScriptModule(original_name=Dropout)\n",
       "          )\n",
       "        )\n",
       "        (4): RecursiveScriptModule(\n",
       "          original_name=RobertaLayer\n",
       "          (attention): RecursiveScriptModule(\n",
       "            original_name=RobertaAttention\n",
       "            (self): RecursiveScriptModule(\n",
       "              original_name=RobertaSelfAttention\n",
       "              (query): RecursiveScriptModule(original_name=Linear)\n",
       "              (key): RecursiveScriptModule(original_name=Linear)\n",
       "              (value): RecursiveScriptModule(original_name=Linear)\n",
       "              (dropout): RecursiveScriptModule(original_name=Dropout)\n",
       "            )\n",
       "            (output): RecursiveScriptModule(\n",
       "              original_name=RobertaSelfOutput\n",
       "              (dense): RecursiveScriptModule(original_name=Linear)\n",
       "              (LayerNorm): RecursiveScriptModule(original_name=LayerNorm)\n",
       "              (dropout): RecursiveScriptModule(original_name=Dropout)\n",
       "            )\n",
       "          )\n",
       "          (intermediate): RecursiveScriptModule(\n",
       "            original_name=RobertaIntermediate\n",
       "            (dense): RecursiveScriptModule(original_name=Linear)\n",
       "            (intermediate_act_fn): RecursiveScriptModule(original_name=GELUActivation)\n",
       "          )\n",
       "          (output): RecursiveScriptModule(\n",
       "            original_name=RobertaOutput\n",
       "            (dense): RecursiveScriptModule(original_name=Linear)\n",
       "            (LayerNorm): RecursiveScriptModule(original_name=LayerNorm)\n",
       "            (dropout): RecursiveScriptModule(original_name=Dropout)\n",
       "          )\n",
       "        )\n",
       "        (5): RecursiveScriptModule(\n",
       "          original_name=RobertaLayer\n",
       "          (attention): RecursiveScriptModule(\n",
       "            original_name=RobertaAttention\n",
       "            (self): RecursiveScriptModule(\n",
       "              original_name=RobertaSelfAttention\n",
       "              (query): RecursiveScriptModule(original_name=Linear)\n",
       "              (key): RecursiveScriptModule(original_name=Linear)\n",
       "              (value): RecursiveScriptModule(original_name=Linear)\n",
       "              (dropout): RecursiveScriptModule(original_name=Dropout)\n",
       "            )\n",
       "            (output): RecursiveScriptModule(\n",
       "              original_name=RobertaSelfOutput\n",
       "              (dense): RecursiveScriptModule(original_name=Linear)\n",
       "              (LayerNorm): RecursiveScriptModule(original_name=LayerNorm)\n",
       "              (dropout): RecursiveScriptModule(original_name=Dropout)\n",
       "            )\n",
       "          )\n",
       "          (intermediate): RecursiveScriptModule(\n",
       "            original_name=RobertaIntermediate\n",
       "            (dense): RecursiveScriptModule(original_name=Linear)\n",
       "            (intermediate_act_fn): RecursiveScriptModule(original_name=GELUActivation)\n",
       "          )\n",
       "          (output): RecursiveScriptModule(\n",
       "            original_name=RobertaOutput\n",
       "            (dense): RecursiveScriptModule(original_name=Linear)\n",
       "            (LayerNorm): RecursiveScriptModule(original_name=LayerNorm)\n",
       "            (dropout): RecursiveScriptModule(original_name=Dropout)\n",
       "          )\n",
       "        )\n",
       "        (6): RecursiveScriptModule(\n",
       "          original_name=RobertaLayer\n",
       "          (attention): RecursiveScriptModule(\n",
       "            original_name=RobertaAttention\n",
       "            (self): RecursiveScriptModule(\n",
       "              original_name=RobertaSelfAttention\n",
       "              (query): RecursiveScriptModule(original_name=Linear)\n",
       "              (key): RecursiveScriptModule(original_name=Linear)\n",
       "              (value): RecursiveScriptModule(original_name=Linear)\n",
       "              (dropout): RecursiveScriptModule(original_name=Dropout)\n",
       "            )\n",
       "            (output): RecursiveScriptModule(\n",
       "              original_name=RobertaSelfOutput\n",
       "              (dense): RecursiveScriptModule(original_name=Linear)\n",
       "              (LayerNorm): RecursiveScriptModule(original_name=LayerNorm)\n",
       "              (dropout): RecursiveScriptModule(original_name=Dropout)\n",
       "            )\n",
       "          )\n",
       "          (intermediate): RecursiveScriptModule(\n",
       "            original_name=RobertaIntermediate\n",
       "            (dense): RecursiveScriptModule(original_name=Linear)\n",
       "            (intermediate_act_fn): RecursiveScriptModule(original_name=GELUActivation)\n",
       "          )\n",
       "          (output): RecursiveScriptModule(\n",
       "            original_name=RobertaOutput\n",
       "            (dense): RecursiveScriptModule(original_name=Linear)\n",
       "            (LayerNorm): RecursiveScriptModule(original_name=LayerNorm)\n",
       "            (dropout): RecursiveScriptModule(original_name=Dropout)\n",
       "          )\n",
       "        )\n",
       "        (7): RecursiveScriptModule(\n",
       "          original_name=RobertaLayer\n",
       "          (attention): RecursiveScriptModule(\n",
       "            original_name=RobertaAttention\n",
       "            (self): RecursiveScriptModule(\n",
       "              original_name=RobertaSelfAttention\n",
       "              (query): RecursiveScriptModule(original_name=Linear)\n",
       "              (key): RecursiveScriptModule(original_name=Linear)\n",
       "              (value): RecursiveScriptModule(original_name=Linear)\n",
       "              (dropout): RecursiveScriptModule(original_name=Dropout)\n",
       "            )\n",
       "            (output): RecursiveScriptModule(\n",
       "              original_name=RobertaSelfOutput\n",
       "              (dense): RecursiveScriptModule(original_name=Linear)\n",
       "              (LayerNorm): RecursiveScriptModule(original_name=LayerNorm)\n",
       "              (dropout): RecursiveScriptModule(original_name=Dropout)\n",
       "            )\n",
       "          )\n",
       "          (intermediate): RecursiveScriptModule(\n",
       "            original_name=RobertaIntermediate\n",
       "            (dense): RecursiveScriptModule(original_name=Linear)\n",
       "            (intermediate_act_fn): RecursiveScriptModule(original_name=GELUActivation)\n",
       "          )\n",
       "          (output): RecursiveScriptModule(\n",
       "            original_name=RobertaOutput\n",
       "            (dense): RecursiveScriptModule(original_name=Linear)\n",
       "            (LayerNorm): RecursiveScriptModule(original_name=LayerNorm)\n",
       "            (dropout): RecursiveScriptModule(original_name=Dropout)\n",
       "          )\n",
       "        )\n",
       "        (8): RecursiveScriptModule(\n",
       "          original_name=RobertaLayer\n",
       "          (attention): RecursiveScriptModule(\n",
       "            original_name=RobertaAttention\n",
       "            (self): RecursiveScriptModule(\n",
       "              original_name=RobertaSelfAttention\n",
       "              (query): RecursiveScriptModule(original_name=Linear)\n",
       "              (key): RecursiveScriptModule(original_name=Linear)\n",
       "              (value): RecursiveScriptModule(original_name=Linear)\n",
       "              (dropout): RecursiveScriptModule(original_name=Dropout)\n",
       "            )\n",
       "            (output): RecursiveScriptModule(\n",
       "              original_name=RobertaSelfOutput\n",
       "              (dense): RecursiveScriptModule(original_name=Linear)\n",
       "              (LayerNorm): RecursiveScriptModule(original_name=LayerNorm)\n",
       "              (dropout): RecursiveScriptModule(original_name=Dropout)\n",
       "            )\n",
       "          )\n",
       "          (intermediate): RecursiveScriptModule(\n",
       "            original_name=RobertaIntermediate\n",
       "            (dense): RecursiveScriptModule(original_name=Linear)\n",
       "            (intermediate_act_fn): RecursiveScriptModule(original_name=GELUActivation)\n",
       "          )\n",
       "          (output): RecursiveScriptModule(\n",
       "            original_name=RobertaOutput\n",
       "            (dense): RecursiveScriptModule(original_name=Linear)\n",
       "            (LayerNorm): RecursiveScriptModule(original_name=LayerNorm)\n",
       "            (dropout): RecursiveScriptModule(original_name=Dropout)\n",
       "          )\n",
       "        )\n",
       "        (9): RecursiveScriptModule(\n",
       "          original_name=RobertaLayer\n",
       "          (attention): RecursiveScriptModule(\n",
       "            original_name=RobertaAttention\n",
       "            (self): RecursiveScriptModule(\n",
       "              original_name=RobertaSelfAttention\n",
       "              (query): RecursiveScriptModule(original_name=Linear)\n",
       "              (key): RecursiveScriptModule(original_name=Linear)\n",
       "              (value): RecursiveScriptModule(original_name=Linear)\n",
       "              (dropout): RecursiveScriptModule(original_name=Dropout)\n",
       "            )\n",
       "            (output): RecursiveScriptModule(\n",
       "              original_name=RobertaSelfOutput\n",
       "              (dense): RecursiveScriptModule(original_name=Linear)\n",
       "              (LayerNorm): RecursiveScriptModule(original_name=LayerNorm)\n",
       "              (dropout): RecursiveScriptModule(original_name=Dropout)\n",
       "            )\n",
       "          )\n",
       "          (intermediate): RecursiveScriptModule(\n",
       "            original_name=RobertaIntermediate\n",
       "            (dense): RecursiveScriptModule(original_name=Linear)\n",
       "            (intermediate_act_fn): RecursiveScriptModule(original_name=GELUActivation)\n",
       "          )\n",
       "          (output): RecursiveScriptModule(\n",
       "            original_name=RobertaOutput\n",
       "            (dense): RecursiveScriptModule(original_name=Linear)\n",
       "            (LayerNorm): RecursiveScriptModule(original_name=LayerNorm)\n",
       "            (dropout): RecursiveScriptModule(original_name=Dropout)\n",
       "          )\n",
       "        )\n",
       "        (10): RecursiveScriptModule(\n",
       "          original_name=RobertaLayer\n",
       "          (attention): RecursiveScriptModule(\n",
       "            original_name=RobertaAttention\n",
       "            (self): RecursiveScriptModule(\n",
       "              original_name=RobertaSelfAttention\n",
       "              (query): RecursiveScriptModule(original_name=Linear)\n",
       "              (key): RecursiveScriptModule(original_name=Linear)\n",
       "              (value): RecursiveScriptModule(original_name=Linear)\n",
       "              (dropout): RecursiveScriptModule(original_name=Dropout)\n",
       "            )\n",
       "            (output): RecursiveScriptModule(\n",
       "              original_name=RobertaSelfOutput\n",
       "              (dense): RecursiveScriptModule(original_name=Linear)\n",
       "              (LayerNorm): RecursiveScriptModule(original_name=LayerNorm)\n",
       "              (dropout): RecursiveScriptModule(original_name=Dropout)\n",
       "            )\n",
       "          )\n",
       "          (intermediate): RecursiveScriptModule(\n",
       "            original_name=RobertaIntermediate\n",
       "            (dense): RecursiveScriptModule(original_name=Linear)\n",
       "            (intermediate_act_fn): RecursiveScriptModule(original_name=GELUActivation)\n",
       "          )\n",
       "          (output): RecursiveScriptModule(\n",
       "            original_name=RobertaOutput\n",
       "            (dense): RecursiveScriptModule(original_name=Linear)\n",
       "            (LayerNorm): RecursiveScriptModule(original_name=LayerNorm)\n",
       "            (dropout): RecursiveScriptModule(original_name=Dropout)\n",
       "          )\n",
       "        )\n",
       "        (11): RecursiveScriptModule(\n",
       "          original_name=RobertaLayer\n",
       "          (attention): RecursiveScriptModule(\n",
       "            original_name=RobertaAttention\n",
       "            (self): RecursiveScriptModule(\n",
       "              original_name=RobertaSelfAttention\n",
       "              (query): RecursiveScriptModule(original_name=Linear)\n",
       "              (key): RecursiveScriptModule(original_name=Linear)\n",
       "              (value): RecursiveScriptModule(original_name=Linear)\n",
       "              (dropout): RecursiveScriptModule(original_name=Dropout)\n",
       "            )\n",
       "            (output): RecursiveScriptModule(\n",
       "              original_name=RobertaSelfOutput\n",
       "              (dense): RecursiveScriptModule(original_name=Linear)\n",
       "              (LayerNorm): RecursiveScriptModule(original_name=LayerNorm)\n",
       "              (dropout): RecursiveScriptModule(original_name=Dropout)\n",
       "            )\n",
       "          )\n",
       "          (intermediate): RecursiveScriptModule(\n",
       "            original_name=RobertaIntermediate\n",
       "            (dense): RecursiveScriptModule(original_name=Linear)\n",
       "            (intermediate_act_fn): RecursiveScriptModule(original_name=GELUActivation)\n",
       "          )\n",
       "          (output): RecursiveScriptModule(\n",
       "            original_name=RobertaOutput\n",
       "            (dense): RecursiveScriptModule(original_name=Linear)\n",
       "            (LayerNorm): RecursiveScriptModule(original_name=LayerNorm)\n",
       "            (dropout): RecursiveScriptModule(original_name=Dropout)\n",
       "          )\n",
       "        )\n",
       "      )\n",
       "    )\n",
       "  )\n",
       "  (classifier): RecursiveScriptModule(\n",
       "    original_name=RobertaClassificationHead\n",
       "    (dense): RecursiveScriptModule(original_name=Linear)\n",
       "    (dropout): RecursiveScriptModule(original_name=Dropout)\n",
       "    (out_proj): RecursiveScriptModule(original_name=Linear)\n",
       "  )\n",
       ")"
      ]
     },
     "execution_count": 6,
     "metadata": {},
     "output_type": "execute_result"
    }
   ],
   "source": [
    "loaded_model = torch.jit.load(\"traced_cross_encoder.pt\")\n",
    "loaded_model.eval()"
   ]
  },
  {
   "cell_type": "code",
   "execution_count": 7,
   "id": "42d25d77",
   "metadata": {},
   "outputs": [
    {
     "data": {
      "text/plain": [
       "{'logits': tensor([[ 5.6635],\n",
       "         [-3.7582]], grad_fn=<AddmmBackward0>)}"
      ]
     },
     "execution_count": 7,
     "metadata": {},
     "output_type": "execute_result"
    }
   ],
   "source": [
    "test_features = tokenizer(test_sentences,  padding=True, truncation=True, return_tensors=\"pt\")\n",
    "pt_prediction = loaded_model(**test_features)\n",
    "pt_prediction"
   ]
  },
  {
   "cell_type": "code",
   "execution_count": 8,
   "id": "4421b025",
   "metadata": {},
   "outputs": [],
   "source": [
    "from torch import nn\n",
    "default_activation_function = nn.Sigmoid() #if config.num_labels == 1 else nn.Identity()\n",
    "activation_fct = default_activation_function\n",
    "logits = activation_fct(pt_prediction['logits'])"
   ]
  },
  {
   "cell_type": "code",
   "execution_count": 9,
   "id": "bd39248a",
   "metadata": {},
   "outputs": [
    {
     "data": {
      "text/plain": [
       "tensor([[0.9965],\n",
       "        [0.0228]], grad_fn=<SigmoidBackward0>)"
      ]
     },
     "execution_count": 9,
     "metadata": {},
     "output_type": "execute_result"
    }
   ],
   "source": [
    "logits"
   ]
  },
  {
   "cell_type": "markdown",
   "id": "a549e19f",
   "metadata": {},
   "source": [
    "# Compare Output"
   ]
  },
  {
   "cell_type": "code",
   "execution_count": 10,
   "id": "8b394417",
   "metadata": {},
   "outputs": [
    {
     "data": {
      "text/plain": [
       "array([0.99654156, 0.02279292], dtype=float32)"
      ]
     },
     "execution_count": 10,
     "metadata": {},
     "output_type": "execute_result"
    }
   ],
   "source": [
    "from sentence_transformers import CrossEncoder\n",
    "model = CrossEncoder(model_id)\n",
    "original_embedding = model.predict(test_sentences)\n",
    "original_embedding"
   ]
  },
  {
   "cell_type": "code",
   "execution_count": 11,
   "id": "b868fc1a",
   "metadata": {},
   "outputs": [],
   "source": [
    "from transformers import AutoConfig, AutoTokenizer, AutoModelForSequenceClassification\n",
    "import torch\n",
    "\n",
    "config = AutoConfig.from_pretrained(model_id)\n",
    "model = AutoModelForSequenceClassification.from_pretrained(model_id, config=config)\n",
    "tokenizer = AutoTokenizer.from_pretrained(model_id)\n",
    "max_length = 512"
   ]
  },
  {
   "cell_type": "code",
   "execution_count": 12,
   "id": "8f521d44",
   "metadata": {},
   "outputs": [],
   "source": [
    "from torch.utils.data import DataLoader\n",
    "\n",
    "def smart_batching_collate_text_only(batch):\n",
    "    texts = [[] for _ in range(len(batch[0]))]\n",
    "\n",
    "    for example in batch:\n",
    "        for idx, text in enumerate(example):\n",
    "            texts[idx].append(text.strip())\n",
    "\n",
    "    tokenized = tokenizer(*texts, padding=True, truncation='longest_first', return_tensors=\"pt\", max_length=max_length)\n",
    "\n",
    "    for name in tokenized:\n",
    "        tokenized[name] = tokenized[name].to('cpu')\n",
    "\n",
    "    return tokenized\n",
    "\n",
    "inp_dataloader = DataLoader(test_sentences, batch_size=32, collate_fn=smart_batching_collate_text_only, num_workers=0, shuffle=False)"
   ]
  },
  {
   "cell_type": "code",
   "execution_count": 13,
   "id": "df152f74",
   "metadata": {},
   "outputs": [
    {
     "data": {
      "text/plain": [
       "<torch.utils.data.dataloader.DataLoader at 0x2cafeea10>"
      ]
     },
     "execution_count": 13,
     "metadata": {},
     "output_type": "execute_result"
    }
   ],
   "source": [
    "inp_dataloader"
   ]
  },
  {
   "cell_type": "code",
   "execution_count": 14,
   "id": "e75282c2",
   "metadata": {},
   "outputs": [],
   "source": [
    "from torch import nn\n",
    "default_activation_function = nn.Sigmoid() #if config.num_labels == 1 else nn.Identity()"
   ]
  },
  {
   "cell_type": "code",
   "execution_count": 15,
   "id": "028ea369",
   "metadata": {},
   "outputs": [],
   "source": [
    "iterator = inp_dataloader\n",
    "activation_fct = None\n",
    "\n",
    "if activation_fct is None:\n",
    "    activation_fct = default_activation_function\n",
    "\n",
    "pred_scores = []\n",
    "model.eval()\n",
    "model.to('cpu')\n",
    "with torch.no_grad():\n",
    "    for features in iterator:\n",
    "        model_predictions = model(**features, return_dict=True)\n",
    "        logits = activation_fct(model_predictions.logits)\n",
    "\n",
    "#         if apply_softmax and len(logits[0]) > 1:\n",
    "#             logits = torch.nn.functional.softmax(logits, dim=1)\n",
    "        pred_scores.extend(logits)"
   ]
  },
  {
   "cell_type": "code",
   "execution_count": 16,
   "id": "30823f8b",
   "metadata": {},
   "outputs": [
    {
     "data": {
      "text/plain": [
       "[tensor([0.9965]), tensor([0.0228])]"
      ]
     },
     "execution_count": 16,
     "metadata": {},
     "output_type": "execute_result"
    }
   ],
   "source": [
    "pred_scores"
   ]
  },
  {
   "cell_type": "code",
   "execution_count": null,
   "id": "ce67c177",
   "metadata": {},
   "outputs": [],
   "source": []
  }
 ],
 "metadata": {
  "kernelspec": {
   "display_name": "Python 3 (ipykernel)",
   "language": "python",
   "name": "python3"
  },
  "language_info": {
   "codemirror_mode": {
    "name": "ipython",
    "version": 3
   },
   "file_extension": ".py",
   "mimetype": "text/x-python",
   "name": "python",
   "nbconvert_exporter": "python",
   "pygments_lexer": "ipython3",
   "version": "3.11.4"
  }
 },
 "nbformat": 4,
 "nbformat_minor": 5
}

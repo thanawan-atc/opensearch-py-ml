{
 "cells": [
  {
   "cell_type": "markdown",
   "id": "fba4c02d",
   "metadata": {},
   "source": [
    "# Demo Notebook to trace Sentence Transformers model\n",
    "\n",
    "#### [Download notebook](https://github.com/opensearch-project/opensearch-py-ml/blob/main/docs/source/examples/demo_tracing_model_torchscript_onnx.ipynb)\n",
    "\n",
    "This notebook provides a walkthrough guidance for users to trace models from Sentence Transformers in torchScript and onnx format. After tracing the model, customers can register the model to opensearch and generate embeddings.\n",
    "\n",
    "Remember, tracing model in torchScript or Onnx format at just two different options. We don't need to trace model in both ways. Here in our notebook we just want to show both ways. \n",
    "\n",
    "Step 0: Import packages and set up client\n",
    "\n",
    "Step 1: Save model in torchScript format\n",
    "\n",
    "Step 2: Register the saved torchScript model in Opensearch\n",
    "\n",
    "[The following steps are optional, just showing registering model in both ways and comparing the both embedding output]\n",
    "\n",
    "Step 3: Save model in Onnx format \n",
    "\n",
    "Step 4: Register the saved Onnx model in Opensearch\n",
    "\n",
    "Step 5: Generate Sentence Embedding with registered models\n",
    "\n",
    "\n"
   ]
  },
  {
   "cell_type": "markdown",
   "id": "7011727e",
   "metadata": {},
   "source": [
    "## Step 0: Import packages and set up client\n",
    "Install required packages for opensearch_py_ml.sentence_transformer_model\n",
    "Install `opensearchpy` and `opensearch-py-ml` through pypi\n"
   ]
  },
  {
   "cell_type": "code",
   "execution_count": 1,
   "id": "17a3e085",
   "metadata": {
    "scrolled": true
   },
   "outputs": [],
   "source": [
    "#!pip install opensearch-py opensearch-py-ml\n",
    "\n",
    "import os\n",
    "import sys\n",
    "sys.path.append(os.path.abspath(os.path.join('../../..')))"
   ]
  },
  {
   "cell_type": "code",
   "execution_count": 2,
   "id": "d0c711bf",
   "metadata": {
    "pycharm": {
     "name": "#%%\n"
    }
   },
   "outputs": [],
   "source": [
    "import warnings\n",
    "warnings.filterwarnings('ignore', category=DeprecationWarning)\n",
    "warnings.filterwarnings('ignore', category=FutureWarning)\n",
    "warnings.filterwarnings(\"ignore\", message=\"Unverified HTTPS request\")\n",
    "warnings.filterwarnings(\"ignore\", message=\"TracerWarning: torch.tensor\")\n",
    "warnings.filterwarnings(\"ignore\", message=\"using SSL with verify_certs=False is insecure.\")\n",
    "\n",
    "import opensearch_py_ml as oml\n",
    "from opensearchpy import OpenSearch\n",
    "from opensearch_py_ml.ml_models import SentenceTransformerModel\n",
    "# import mlcommon to later register the model to OpenSearch Cluster\n",
    "from opensearch_py_ml.ml_commons import MLCommonClient"
   ]
  },
  {
   "cell_type": "code",
   "execution_count": 3,
   "id": "5c85ae17",
   "metadata": {},
   "outputs": [],
   "source": [
    "CLUSTER_URL = 'http://localhost:9200'"
   ]
  },
  {
   "cell_type": "code",
   "execution_count": 4,
   "id": "77442abf",
   "metadata": {},
   "outputs": [],
   "source": [
    "def get_os_client(cluster_url = CLUSTER_URL,\n",
    "                  username='admin',\n",
    "                  password='admin'):\n",
    "    '''\n",
    "    Get OpenSearch client\n",
    "    :param cluster_url: cluster URL like https://ml-te-netwo-1s12ba42br23v-ff1736fa7db98ff2.elb.us-west-2.amazonaws.com:443\n",
    "    :return: OpenSearch client\n",
    "    '''\n",
    "    client = OpenSearch(\n",
    "        hosts=[cluster_url],\n",
    "        http_auth=(username, password),\n",
    "        verify_certs=False\n",
    "    )\n",
    "    return client "
   ]
  },
  {
   "cell_type": "code",
   "execution_count": 5,
   "id": "89e1cb2a",
   "metadata": {},
   "outputs": [],
   "source": [
    "client = get_os_client()\n",
    "\n",
    "# Connect to ml_common client with OpenSearch client\n",
    "ml_client = MLCommonClient(client)"
   ]
  },
  {
   "cell_type": "markdown",
   "id": "4da9e0de",
   "metadata": {},
   "source": [
    "## Step 1: Save model in torchScript format\n",
    "\n",
    "`Opensearch-py-ml` plugin provides method `save_as_pt` which will trace a model in torchScript format and save the model in a zip file in your filesystem. \n",
    "\n",
    "Detailed documentation: https://opensearch-project.github.io/opensearch-py-ml/reference/api/sentence_transformer.save_as_pt.html#opensearch_py_ml.ml_models.SentenceTransformerModel.save_as_pt\n",
    "\n",
    "\n",
    "Users need to provide a model id from sentence transformers (an example: `sentence-transformers/msmarco-distilbert-base-tas-b`). This model id is a huggingface model id. Exaample: https://huggingface.co/sentence-transformers/msmarco-distilbert-base-tas-b\n",
    "\n",
    "`save_as_pt` will download the model in filesystem and then trace the model with the given input strings.\n",
    "\n",
    "To get more direction about dummy input string please check this url: https://huggingface.co/docs/transformers/torchscript#dummy-inputs-and-standard-lengths\n",
    "\n",
    "after tracing the model (a .pt file will be generated), `save_as_pt` method zips `tokenizers.json` and torchScript (`.pt`) file and saves in the file system. \n",
    "\n",
    "User can register that model to opensearch to generate embedding."
   ]
  },
  {
   "cell_type": "code",
   "execution_count": 6,
   "id": "c7b0ff7e",
   "metadata": {
    "scrolled": true
   },
   "outputs": [
    {
     "name": "stdout",
     "output_type": "stream",
     "text": [
      "model file is saved to  sentence-transformers-torchscript/e5-small-v2.pt\n",
      "zip file is saved to  sentence-transformers-torchscript/e5-small-v2.zip \n",
      "\n"
     ]
    }
   ],
   "source": [
    "model_id = \"intfloat/e5-small-v2\"\n",
    "pre_trained_model = SentenceTransformerModel(model_id=\"intfloat/e5-small-v2\", folder_path='sentence-transformers-torchscript', overwrite=True)\n",
    "model_path = pre_trained_model.save_as_pt(model_id=model_id, sentences=[\"for example providing a small sentence\", \"we can add multiple sentences\"])"
   ]
  },
  {
   "cell_type": "code",
   "execution_count": 7,
   "id": "ceefb1b6",
   "metadata": {},
   "outputs": [
    {
     "name": "stdout",
     "output_type": "stream",
     "text": [
      "Cannot scrape model description from README.md file: Cannot find description in README.md file\n",
      "Using default description from embedding_dimension instead (You can overwrite this by specifying description parameter in make_model_config_json function\n",
      "ml-commons_model_config.json file is saved at :  sentence-transformers-torchscript/ml-commons_model_config.json\n"
     ]
    },
    {
     "data": {
      "text/plain": [
       "'sentence-transformers-torchscript/ml-commons_model_config.json'"
      ]
     },
     "execution_count": 7,
     "metadata": {},
     "output_type": "execute_result"
    }
   ],
   "source": [
    "pre_trained_model.make_model_config_json(model_name=\"test_non_st_v1\")"
   ]
  },
  {
   "cell_type": "markdown",
   "id": "9c3b7cbd",
   "metadata": {},
   "source": [
    "## Step 2: Register the saved torchScript model in Opensearch\n",
    "\n",
    "In the last step we saved a sentence transformer model in torchScript format. Now we will register that model in opensearch cluster. To do that we can take help of `register_model` method in `opensearch-py-ml` plugin.\n",
    "\n",
    "To register model, we need the zip file we just saved in the last step and a model config file. Example of Model config file content can be:\n",
    "\n",
    "{\n",
    "  \"name\": \"sentence-transformers/msmarco-distilbert-base-tas-b\",\n",
    "  \"version\": \"1.0.0\",\n",
    "  \"description\": \"This is a port of the DistilBert TAS-B Model to sentence-transformers model: It maps sentences & paragraphs to a 768 dimensional dense vector space and is optimized for the task of semantic search.\",\n",
    "  \"model_format\": \"TORCH_SCRIPT\",\n",
    "  \"model_config\": {\n",
    "    \"model_type\": \"distilbert\",\n",
    "    \"embedding_dimension\": 768,\n",
    "    \"framework_type\": \"sentence_transformers\"\n",
    "  }\n",
    "}\n",
    "\n",
    "\n",
    "`model_format` needs to be `TORCH_SCRIPT` so that internal system will look for the corresponding `.pt` file from the zip folder. \n",
    "\n",
    "Please refer to this doc: https://github.com/opensearch-project/ml-commons/blob/2.x/docs/model_serving_framework/text_embedding_model_examples.md\n",
    "\n",
    "\n",
    "Documentation for the method: https://opensearch-project.github.io/opensearch-py-ml/reference/api/ml_commons_register_api.html#opensearch_py_ml.ml_commons.MLCommonClient.register_model\n",
    "\n",
    "Related demo notebook about ml-commons plugin integration: https://opensearch-project.github.io/opensearch-py-ml/examples/demo_ml_commons_integration.html\n",
    "\n"
   ]
  },
  {
   "cell_type": "code",
   "execution_count": 8,
   "id": "28e9310c",
   "metadata": {
    "scrolled": true
   },
   "outputs": [
    {
     "name": "stdout",
     "output_type": "stream",
     "text": [
      "Total number of chunks 14\n",
      "Sha1 value of the model file:  bac753c905466005026f7d456f3280452775ba3eb22d6c4ab24080019bf965f5\n",
      "Model meta data was created successfully. Model Id:  JE8O4okBbWAn-cu9gOWa\n",
      "uploading chunk 1 of 14\n",
      "Model id: {'status': 'Uploaded'}\n",
      "uploading chunk 2 of 14\n",
      "Model id: {'status': 'Uploaded'}\n",
      "uploading chunk 3 of 14\n",
      "Model id: {'status': 'Uploaded'}\n",
      "uploading chunk 4 of 14\n",
      "Model id: {'status': 'Uploaded'}\n",
      "uploading chunk 5 of 14\n",
      "Model id: {'status': 'Uploaded'}\n",
      "uploading chunk 6 of 14\n",
      "Model id: {'status': 'Uploaded'}\n",
      "uploading chunk 7 of 14\n",
      "Model id: {'status': 'Uploaded'}\n",
      "uploading chunk 8 of 14\n",
      "Model id: {'status': 'Uploaded'}\n",
      "uploading chunk 9 of 14\n",
      "Model id: {'status': 'Uploaded'}\n",
      "uploading chunk 10 of 14\n",
      "Model id: {'status': 'Uploaded'}\n",
      "uploading chunk 11 of 14\n",
      "Model id: {'status': 'Uploaded'}\n",
      "uploading chunk 12 of 14\n",
      "Model id: {'status': 'Uploaded'}\n",
      "uploading chunk 13 of 14\n",
      "Model id: {'status': 'Uploaded'}\n",
      "uploading chunk 14 of 14\n",
      "Model id: {'status': 'Uploaded'}\n",
      "Model registered successfully\n",
      "task_id : JU8O4okBbWAn-cu9ouXG\n",
      "Model deployed successfully\n"
     ]
    },
    {
     "data": {
      "text/plain": [
       "'JE8O4okBbWAn-cu9gOWa'"
      ]
     },
     "execution_count": 8,
     "metadata": {},
     "output_type": "execute_result"
    }
   ],
   "source": [
    "model_config_path_torch = 'sentence-transformers-torchscript/ml-commons_model_config.json'\n",
    "ml_client.register_model(model_path, model_config_path_torch, isVerbose=True)"
   ]
  },
  {
   "cell_type": "markdown",
   "id": "34ee235b",
   "metadata": {},
   "source": [
    "## Step 3: Save model in Onnx format\n",
    "\n",
    "`Opensearch-py-ml` plugin provides method `save_as_onnx` which will trace a model in ONNX format and save the model in a zip file in your filesystem. \n",
    "\n",
    "Detailed documentation: https://opensearch-project.github.io/opensearch-py-ml/reference/api/sentence_transformer.save_as_onnx.html#opensearch_py_ml.ml_models.SentenceTransformerModel.save_as_onnx\n",
    "\n",
    "\n",
    "Users need to provide a model id from sentence transformers (an example: `sentence-transformers/msmarco-distilbert-base-tas-b`). `save_as_onnx` will download the model in filesystem and then trace the model.\n",
    "\n",
    "after tracing the model (a .onnx file will be generated), `save_as_onnx` method zips `tokenizers.json` and torchScript (`.onnx`) file and saves in the file system. \n",
    "\n",
    "User can register that model to opensearch to generate embedding.\n"
   ]
  },
  {
   "cell_type": "code",
   "execution_count": 10,
   "id": "44d6b1d2",
   "metadata": {},
   "outputs": [
    {
     "name": "stdout",
     "output_type": "stream",
     "text": [
      "ONNX opset version set to: 15\n",
      "Loading pipeline (model: intfloat/e5-small-v2, tokenizer: intfloat/e5-small-v2)\n",
      "Creating folder sentence-transformers-onxx/onnx\n",
      "Using framework PyTorch: 2.0.1\n",
      "Found input input_ids with shape: {0: 'batch', 1: 'sequence'}\n",
      "Found input token_type_ids with shape: {0: 'batch', 1: 'sequence'}\n",
      "Found input attention_mask with shape: {0: 'batch', 1: 'sequence'}\n",
      "Found output output_0 with shape: {0: 'batch', 1: 'sequence'}\n",
      "Found output output_1 with shape: {0: 'batch'}\n",
      "Ensuring inputs are in correct order\n",
      "position_ids is not present in the generated input list.\n",
      "Generated inputs order: ['input_ids', 'attention_mask', 'token_type_ids']\n",
      "================ Diagnostic Run torch.onnx.export version 2.0.1 ================\n",
      "verbose: False, log level: Level.ERROR\n",
      "======================= 0 NONE 0 NOTE 0 WARNING 0 ERROR ========================\n",
      "\n",
      "zip file is saved to  sentence-transformers-onxx/e5-small-v2.zip \n",
      "\n"
     ]
    }
   ],
   "source": [
    "pre_trained_model = SentenceTransformerModel(model_id=model_id, folder_path='sentence-transformers-onxx', overwrite=True)\n",
    "model_path_onnx = pre_trained_model.save_as_onnx(model_id=model_id)"
   ]
  },
  {
   "cell_type": "code",
   "execution_count": 15,
   "id": "0b546cbc",
   "metadata": {},
   "outputs": [
    {
     "name": "stdout",
     "output_type": "stream",
     "text": [
      "Cannot scrape model description from README.md file: Cannot find description in README.md file\n",
      "Using default description from embedding_dimension instead (You can overwrite this by specifying description parameter in make_model_config_json function\n",
      "ml-commons_model_config.json file is saved at :  sentence-transformers-onxx/ml-commons_model_config.json\n"
     ]
    },
    {
     "data": {
      "text/plain": [
       "'sentence-transformers-onxx/ml-commons_model_config.json'"
      ]
     },
     "execution_count": 15,
     "metadata": {},
     "output_type": "execute_result"
    }
   ],
   "source": [
    "pre_trained_model.make_model_config_json(model_name=\"test_non_st_onnx_v2\", model_format=\"ONNX\")"
   ]
  },
  {
   "cell_type": "markdown",
   "id": "97ed5665",
   "metadata": {},
   "source": [
    "## Step 4: Register the saved Onnx model in Opensearch\n",
    "\n",
    "In the last step we saved a sentence transformer model in ONNX format. Now we will register that model in opensearch cluster. To do that we can take help of `register_model` method in `opensearch-py-ml` plugin.\n",
    "\n",
    "To register model, we need the zip file we just saved in the last step and a model config file. Example of Model config file content can be:\n",
    "\n",
    "{\n",
    "  \"name\": \"sentence-transformers/msmarco-distilbert-base-tas-b\",\n",
    "  \"version\": \"1.0.0\",\n",
    "  \"description\": \"This is a port of the DistilBert TAS-B Model to sentence-transformers model: It maps sentences & paragraphs to a 768 dimensional dense vector space and is optimized for the task of semantic search.\",\n",
    "  \"model_format\": \"ONNX\",\n",
    "  \"model_config\": {\n",
    "    \"model_type\": \"distilbert\",\n",
    "    \"embedding_dimension\": 768,\n",
    "    \"framework_type\": \"sentence_transformers\",\n",
    "    \"pooling_mode\":\"cls\",\n",
    "    \"normalize_result\":\"false\"\n",
    "  }\n",
    "}\n",
    "\n",
    "`model_format` needs to be `ONNX` so that internal system will look for the corresponding `.onnx` file from the zip folder.\n",
    "\n",
    "Please refer to this doc: https://github.com/opensearch-project/ml-commons/blob/2.x/docs/model_serving_framework/text_embedding_model_examples.md\n",
    "\n",
    "\n",
    "Documentation for the method: https://opensearch-project.github.io/opensearch-py-ml/reference/api/ml_commons_register_api.html#opensearch_py_ml.ml_commons.MLCommonClient.register_model\n",
    "\n",
    "Related demo notebook about ml-commons plugin integration: https://opensearch-project.github.io/opensearch-py-ml/examples/demo_ml_commons_integration.html"
   ]
  },
  {
   "cell_type": "code",
   "execution_count": 16,
   "id": "661c3f46",
   "metadata": {},
   "outputs": [
    {
     "name": "stdout",
     "output_type": "stream",
     "text": [
      "Total number of chunks 14\n",
      "Sha1 value of the model file:  417d540b50ae56e49f544b163a2eff8e35fc8fa08c17a3aae6549c2c1913847e\n",
      "Model meta data was created successfully. Model Id:  Kk8Q4okBbWAn-cu9qeWD\n",
      "uploading chunk 1 of 14\n",
      "Model id: {'status': 'Uploaded'}\n",
      "uploading chunk 2 of 14\n",
      "Model id: {'status': 'Uploaded'}\n",
      "uploading chunk 3 of 14\n",
      "Model id: {'status': 'Uploaded'}\n",
      "uploading chunk 4 of 14\n",
      "Model id: {'status': 'Uploaded'}\n",
      "uploading chunk 5 of 14\n",
      "Model id: {'status': 'Uploaded'}\n",
      "uploading chunk 6 of 14\n",
      "Model id: {'status': 'Uploaded'}\n",
      "uploading chunk 7 of 14\n",
      "Model id: {'status': 'Uploaded'}\n",
      "uploading chunk 8 of 14\n",
      "Model id: {'status': 'Uploaded'}\n",
      "uploading chunk 9 of 14\n",
      "Model id: {'status': 'Uploaded'}\n",
      "uploading chunk 10 of 14\n",
      "Model id: {'status': 'Uploaded'}\n",
      "uploading chunk 11 of 14\n",
      "Model id: {'status': 'Uploaded'}\n",
      "uploading chunk 12 of 14\n",
      "Model id: {'status': 'Uploaded'}\n",
      "uploading chunk 13 of 14\n",
      "Model id: {'status': 'Uploaded'}\n",
      "uploading chunk 14 of 14\n",
      "Model id: {'status': 'Uploaded'}\n",
      "Model registered successfully\n",
      "task_id : K08Q4okBbWAn-cu9z-UL\n"
     ]
    },
    {
     "data": {
      "text/html": [
       "<pre style=\"white-space:pre;overflow-x:auto;line-height:normal;font-family:Menlo,'DejaVu Sans Mono',consolas,'Courier New',monospace\"><span style=\"color: #800000; text-decoration-color: #800000\">╭─────────────────────────────── </span><span style=\"color: #800000; text-decoration-color: #800000; font-weight: bold\">Traceback </span><span style=\"color: #bf7f7f; text-decoration-color: #bf7f7f; font-weight: bold\">(most recent call last)</span><span style=\"color: #800000; text-decoration-color: #800000\"> ────────────────────────────────╮</span>\n",
       "<span style=\"color: #800000; text-decoration-color: #800000\">│</span> in <span style=\"color: #00ff00; text-decoration-color: #00ff00\">&lt;cell line: 0&gt;</span>:<span style=\"color: #0000ff; text-decoration-color: #0000ff\">2</span>                                                                              <span style=\"color: #800000; text-decoration-color: #800000\">│</span>\n",
       "<span style=\"color: #800000; text-decoration-color: #800000\">│</span>                                                                                                  <span style=\"color: #800000; text-decoration-color: #800000\">│</span>\n",
       "<span style=\"color: #800000; text-decoration-color: #800000\">│</span>   <span style=\"color: #7f7f7f; text-decoration-color: #7f7f7f\">1 </span>model_config_path_onnx = <span style=\"color: #808000; text-decoration-color: #808000\">'sentence-transformers-onxx/ml-commons_model_config.json'</span>           <span style=\"color: #800000; text-decoration-color: #800000\">│</span>\n",
       "<span style=\"color: #800000; text-decoration-color: #800000\">│</span> <span style=\"color: #800000; text-decoration-color: #800000\">❱ </span>2 ml_client.register_model(model_path_onnx, model_config_path_onnx, isVerbose=<span style=\"color: #0000ff; text-decoration-color: #0000ff\">True</span>)            <span style=\"color: #800000; text-decoration-color: #800000\">│</span>\n",
       "<span style=\"color: #800000; text-decoration-color: #800000\">│</span>   <span style=\"color: #7f7f7f; text-decoration-color: #7f7f7f\">3 </span>                                                                                             <span style=\"color: #800000; text-decoration-color: #800000\">│</span>\n",
       "<span style=\"color: #800000; text-decoration-color: #800000\">│</span>                                                                                                  <span style=\"color: #800000; text-decoration-color: #800000\">│</span>\n",
       "<span style=\"color: #800000; text-decoration-color: #800000\">│</span> <span style=\"color: #bfbf7f; text-decoration-color: #bfbf7f\">/Users/latchari/opensearch-py-ml/opensearch_py_ml/ml_commons/</span><span style=\"color: #808000; text-decoration-color: #808000; font-weight: bold\">ml_commons_client.py</span>:<span style=\"color: #0000ff; text-decoration-color: #0000ff\">157</span> in         <span style=\"color: #800000; text-decoration-color: #800000\">│</span>\n",
       "<span style=\"color: #800000; text-decoration-color: #800000\">│</span> <span style=\"color: #00ff00; text-decoration-color: #00ff00\">register_model</span>                                                                                   <span style=\"color: #800000; text-decoration-color: #800000\">│</span>\n",
       "<span style=\"color: #800000; text-decoration-color: #800000\">│</span>                                                                                                  <span style=\"color: #800000; text-decoration-color: #800000\">│</span>\n",
       "<span style=\"color: #800000; text-decoration-color: #800000\">│</span>   <span style=\"color: #7f7f7f; text-decoration-color: #7f7f7f\">154 </span><span style=\"color: #7f7f7f; text-decoration-color: #7f7f7f\">│   │   </span>                                                                                   <span style=\"color: #800000; text-decoration-color: #800000\">│</span>\n",
       "<span style=\"color: #800000; text-decoration-color: #800000\">│</span>   <span style=\"color: #7f7f7f; text-decoration-color: #7f7f7f\">155 </span><span style=\"color: #7f7f7f; text-decoration-color: #7f7f7f\">│   │   </span><span style=\"color: #7f7f7f; text-decoration-color: #7f7f7f\"># loading the model chunks from model index</span>                                        <span style=\"color: #800000; text-decoration-color: #800000\">│</span>\n",
       "<span style=\"color: #800000; text-decoration-color: #800000\">│</span>   <span style=\"color: #7f7f7f; text-decoration-color: #7f7f7f\">156 </span><span style=\"color: #7f7f7f; text-decoration-color: #7f7f7f\">│   │   </span><span style=\"color: #0000ff; text-decoration-color: #0000ff\">if</span> deploy_model:                                                                   <span style=\"color: #800000; text-decoration-color: #800000\">│</span>\n",
       "<span style=\"color: #800000; text-decoration-color: #800000\">│</span> <span style=\"color: #800000; text-decoration-color: #800000\">❱ </span>157 <span style=\"color: #7f7f7f; text-decoration-color: #7f7f7f\">│   │   │   </span><span style=\"color: #00ffff; text-decoration-color: #00ffff\">self</span>.deploy_model(model_id, wait_until_deployed=wait_until_deployed)           <span style=\"color: #800000; text-decoration-color: #800000\">│</span>\n",
       "<span style=\"color: #800000; text-decoration-color: #800000\">│</span>   <span style=\"color: #7f7f7f; text-decoration-color: #7f7f7f\">158 </span><span style=\"color: #7f7f7f; text-decoration-color: #7f7f7f\">│   │   </span>                                                                                   <span style=\"color: #800000; text-decoration-color: #800000\">│</span>\n",
       "<span style=\"color: #800000; text-decoration-color: #800000\">│</span>   <span style=\"color: #7f7f7f; text-decoration-color: #7f7f7f\">159 </span><span style=\"color: #7f7f7f; text-decoration-color: #7f7f7f\">│   │   </span><span style=\"color: #0000ff; text-decoration-color: #0000ff\">return</span> model_id                                                                    <span style=\"color: #800000; text-decoration-color: #800000\">│</span>\n",
       "<span style=\"color: #800000; text-decoration-color: #800000\">│</span>   <span style=\"color: #7f7f7f; text-decoration-color: #7f7f7f\">160 </span>                                                                                           <span style=\"color: #800000; text-decoration-color: #800000\">│</span>\n",
       "<span style=\"color: #800000; text-decoration-color: #800000\">│</span>                                                                                                  <span style=\"color: #800000; text-decoration-color: #800000\">│</span>\n",
       "<span style=\"color: #800000; text-decoration-color: #800000\">│</span> <span style=\"color: #bfbf7f; text-decoration-color: #bfbf7f\">/Users/latchari/opensearch-py-ml/opensearch_py_ml/ml_commons/</span><span style=\"color: #808000; text-decoration-color: #808000; font-weight: bold\">ml_commons_client.py</span>:<span style=\"color: #0000ff; text-decoration-color: #0000ff\">349</span> in         <span style=\"color: #800000; text-decoration-color: #800000\">│</span>\n",
       "<span style=\"color: #800000; text-decoration-color: #800000\">│</span> <span style=\"color: #00ff00; text-decoration-color: #00ff00\">deploy_model</span>                                                                                     <span style=\"color: #800000; text-decoration-color: #800000\">│</span>\n",
       "<span style=\"color: #800000; text-decoration-color: #800000\">│</span>                                                                                                  <span style=\"color: #800000; text-decoration-color: #800000\">│</span>\n",
       "<span style=\"color: #800000; text-decoration-color: #800000\">│</span>   <span style=\"color: #7f7f7f; text-decoration-color: #7f7f7f\">346 </span><span style=\"color: #7f7f7f; text-decoration-color: #7f7f7f\">│   │   │   │   </span>model_state = ml_model_status.get(<span style=\"color: #808000; text-decoration-color: #808000\">\"model_state\"</span>)                           <span style=\"color: #800000; text-decoration-color: #800000\">│</span>\n",
       "<span style=\"color: #800000; text-decoration-color: #800000\">│</span>   <span style=\"color: #7f7f7f; text-decoration-color: #7f7f7f\">347 </span><span style=\"color: #7f7f7f; text-decoration-color: #7f7f7f\">│   │   │   │   </span><span style=\"color: #0000ff; text-decoration-color: #0000ff\">if</span> model_state <span style=\"color: #ff00ff; text-decoration-color: #ff00ff\">in</span> [<span style=\"color: #808000; text-decoration-color: #808000\">\"DEPLOYED\"</span>, <span style=\"color: #808000; text-decoration-color: #808000\">\"PARTIALLY_DEPLOYED\"</span>]:                      <span style=\"color: #800000; text-decoration-color: #800000\">│</span>\n",
       "<span style=\"color: #800000; text-decoration-color: #800000\">│</span>   <span style=\"color: #7f7f7f; text-decoration-color: #7f7f7f\">348 </span><span style=\"color: #7f7f7f; text-decoration-color: #7f7f7f\">│   │   │   │   │   </span><span style=\"color: #0000ff; text-decoration-color: #0000ff\">break</span>                                                                  <span style=\"color: #800000; text-decoration-color: #800000\">│</span>\n",
       "<span style=\"color: #800000; text-decoration-color: #800000\">│</span> <span style=\"color: #800000; text-decoration-color: #800000\">❱ </span>349 <span style=\"color: #7f7f7f; text-decoration-color: #7f7f7f\">│   │   │   │   </span>time.sleep(<span style=\"color: #0000ff; text-decoration-color: #0000ff\">1</span>)                                                              <span style=\"color: #800000; text-decoration-color: #800000\">│</span>\n",
       "<span style=\"color: #800000; text-decoration-color: #800000\">│</span>   <span style=\"color: #7f7f7f; text-decoration-color: #7f7f7f\">350 </span><span style=\"color: #7f7f7f; text-decoration-color: #7f7f7f\">│   │   │   </span>                                                                               <span style=\"color: #800000; text-decoration-color: #800000\">│</span>\n",
       "<span style=\"color: #800000; text-decoration-color: #800000\">│</span>   <span style=\"color: #7f7f7f; text-decoration-color: #7f7f7f\">351 </span><span style=\"color: #7f7f7f; text-decoration-color: #7f7f7f\">│   │   │   </span><span style=\"color: #7f7f7f; text-decoration-color: #7f7f7f\"># TODO: need to add the test case later for this line</span>                          <span style=\"color: #800000; text-decoration-color: #800000\">│</span>\n",
       "<span style=\"color: #800000; text-decoration-color: #800000\">│</span>   <span style=\"color: #7f7f7f; text-decoration-color: #7f7f7f\">352 </span><span style=\"color: #7f7f7f; text-decoration-color: #7f7f7f\">│   │   │   </span><span style=\"color: #7f7f7f; text-decoration-color: #7f7f7f\"># Check the model status</span>                                                       <span style=\"color: #800000; text-decoration-color: #800000\">│</span>\n",
       "<span style=\"color: #800000; text-decoration-color: #800000\">╰──────────────────────────────────────────────────────────────────────────────────────────────────╯</span>\n",
       "<span style=\"color: #ff0000; text-decoration-color: #ff0000; font-weight: bold\">KeyboardInterrupt</span>\n",
       "</pre>\n"
      ],
      "text/plain": [
       "\u001b[31m╭─\u001b[0m\u001b[31m──────────────────────────────\u001b[0m\u001b[31m \u001b[0m\u001b[1;31mTraceback \u001b[0m\u001b[1;2;31m(most recent call last)\u001b[0m\u001b[31m \u001b[0m\u001b[31m───────────────────────────────\u001b[0m\u001b[31m─╮\u001b[0m\n",
       "\u001b[31m│\u001b[0m in \u001b[92m<cell line: 0>\u001b[0m:\u001b[94m2\u001b[0m                                                                              \u001b[31m│\u001b[0m\n",
       "\u001b[31m│\u001b[0m                                                                                                  \u001b[31m│\u001b[0m\n",
       "\u001b[31m│\u001b[0m   \u001b[2m1 \u001b[0mmodel_config_path_onnx = \u001b[33m'\u001b[0m\u001b[33msentence-transformers-onxx/ml-commons_model_config.json\u001b[0m\u001b[33m'\u001b[0m           \u001b[31m│\u001b[0m\n",
       "\u001b[31m│\u001b[0m \u001b[31m❱ \u001b[0m2 ml_client.register_model(model_path_onnx, model_config_path_onnx, isVerbose=\u001b[94mTrue\u001b[0m)            \u001b[31m│\u001b[0m\n",
       "\u001b[31m│\u001b[0m   \u001b[2m3 \u001b[0m                                                                                             \u001b[31m│\u001b[0m\n",
       "\u001b[31m│\u001b[0m                                                                                                  \u001b[31m│\u001b[0m\n",
       "\u001b[31m│\u001b[0m \u001b[2;33m/Users/latchari/opensearch-py-ml/opensearch_py_ml/ml_commons/\u001b[0m\u001b[1;33mml_commons_client.py\u001b[0m:\u001b[94m157\u001b[0m in         \u001b[31m│\u001b[0m\n",
       "\u001b[31m│\u001b[0m \u001b[92mregister_model\u001b[0m                                                                                   \u001b[31m│\u001b[0m\n",
       "\u001b[31m│\u001b[0m                                                                                                  \u001b[31m│\u001b[0m\n",
       "\u001b[31m│\u001b[0m   \u001b[2m154 \u001b[0m\u001b[2m│   │   \u001b[0m                                                                                   \u001b[31m│\u001b[0m\n",
       "\u001b[31m│\u001b[0m   \u001b[2m155 \u001b[0m\u001b[2m│   │   \u001b[0m\u001b[2m# loading the model chunks from model index\u001b[0m                                        \u001b[31m│\u001b[0m\n",
       "\u001b[31m│\u001b[0m   \u001b[2m156 \u001b[0m\u001b[2m│   │   \u001b[0m\u001b[94mif\u001b[0m deploy_model:                                                                   \u001b[31m│\u001b[0m\n",
       "\u001b[31m│\u001b[0m \u001b[31m❱ \u001b[0m157 \u001b[2m│   │   │   \u001b[0m\u001b[96mself\u001b[0m.deploy_model(model_id, wait_until_deployed=wait_until_deployed)           \u001b[31m│\u001b[0m\n",
       "\u001b[31m│\u001b[0m   \u001b[2m158 \u001b[0m\u001b[2m│   │   \u001b[0m                                                                                   \u001b[31m│\u001b[0m\n",
       "\u001b[31m│\u001b[0m   \u001b[2m159 \u001b[0m\u001b[2m│   │   \u001b[0m\u001b[94mreturn\u001b[0m model_id                                                                    \u001b[31m│\u001b[0m\n",
       "\u001b[31m│\u001b[0m   \u001b[2m160 \u001b[0m                                                                                           \u001b[31m│\u001b[0m\n",
       "\u001b[31m│\u001b[0m                                                                                                  \u001b[31m│\u001b[0m\n",
       "\u001b[31m│\u001b[0m \u001b[2;33m/Users/latchari/opensearch-py-ml/opensearch_py_ml/ml_commons/\u001b[0m\u001b[1;33mml_commons_client.py\u001b[0m:\u001b[94m349\u001b[0m in         \u001b[31m│\u001b[0m\n",
       "\u001b[31m│\u001b[0m \u001b[92mdeploy_model\u001b[0m                                                                                     \u001b[31m│\u001b[0m\n",
       "\u001b[31m│\u001b[0m                                                                                                  \u001b[31m│\u001b[0m\n",
       "\u001b[31m│\u001b[0m   \u001b[2m346 \u001b[0m\u001b[2m│   │   │   │   \u001b[0mmodel_state = ml_model_status.get(\u001b[33m\"\u001b[0m\u001b[33mmodel_state\u001b[0m\u001b[33m\"\u001b[0m)                           \u001b[31m│\u001b[0m\n",
       "\u001b[31m│\u001b[0m   \u001b[2m347 \u001b[0m\u001b[2m│   │   │   │   \u001b[0m\u001b[94mif\u001b[0m model_state \u001b[95min\u001b[0m [\u001b[33m\"\u001b[0m\u001b[33mDEPLOYED\u001b[0m\u001b[33m\"\u001b[0m, \u001b[33m\"\u001b[0m\u001b[33mPARTIALLY_DEPLOYED\u001b[0m\u001b[33m\"\u001b[0m]:                      \u001b[31m│\u001b[0m\n",
       "\u001b[31m│\u001b[0m   \u001b[2m348 \u001b[0m\u001b[2m│   │   │   │   │   \u001b[0m\u001b[94mbreak\u001b[0m                                                                  \u001b[31m│\u001b[0m\n",
       "\u001b[31m│\u001b[0m \u001b[31m❱ \u001b[0m349 \u001b[2m│   │   │   │   \u001b[0mtime.sleep(\u001b[94m1\u001b[0m)                                                              \u001b[31m│\u001b[0m\n",
       "\u001b[31m│\u001b[0m   \u001b[2m350 \u001b[0m\u001b[2m│   │   │   \u001b[0m                                                                               \u001b[31m│\u001b[0m\n",
       "\u001b[31m│\u001b[0m   \u001b[2m351 \u001b[0m\u001b[2m│   │   │   \u001b[0m\u001b[2m# TODO: need to add the test case later for this line\u001b[0m                          \u001b[31m│\u001b[0m\n",
       "\u001b[31m│\u001b[0m   \u001b[2m352 \u001b[0m\u001b[2m│   │   │   \u001b[0m\u001b[2m# Check the model status\u001b[0m                                                       \u001b[31m│\u001b[0m\n",
       "\u001b[31m╰──────────────────────────────────────────────────────────────────────────────────────────────────╯\u001b[0m\n",
       "\u001b[1;91mKeyboardInterrupt\u001b[0m\n"
      ]
     },
     "metadata": {},
     "output_type": "display_data"
    }
   ],
   "source": [
    "model_config_path_onnx = 'sentence-transformers-onxx/ml-commons_model_config.json'\n",
    "ml_client.register_model(model_path_onnx, model_config_path_onnx, isVerbose=True)"
   ]
  },
  {
   "cell_type": "markdown",
   "id": "3b22c708",
   "metadata": {},
   "source": [
    "## Step 5: Generate Sentence Embedding\n",
    "\n",
    "Now after loading these models in memory, we can generate embedding for sentences. We can provide a list of sentences to get a list of embedding for the sentences. "
   ]
  },
  {
   "cell_type": "code",
   "execution_count": null,
   "id": "8cc5a796",
   "metadata": {},
   "outputs": [],
   "source": [
    "# Now using this model we can generate sentence embedding.\n",
    "\n",
    "import numpy as np\n",
    "\n",
    "input_sentences = [\"first sentence\", \"second sentence\"]\n",
    "\n",
    "# Generated embedding from torchScript\n",
    "\n",
    "embedding_output_torch = ml_client.generate_embedding(\"JE8O4okBbWAn-cu9gOWa\", input_sentences)\n",
    "\n",
    "#just taking embedding for the first sentence\n",
    "data_torch = embedding_output_torch[\"inference_results\"][0][\"output\"][0][\"data\"]\n",
    "\n",
    "# Generated embedding from onnx\n",
    "\n",
    "embedding_output_onnx = ml_client.generate_embedding(\"Kk8Q4okBbWAn-cu9qeWD\", input_sentences)\n",
    "\n",
    "# Just taking embedding for the first sentence\n",
    "data_onnx = embedding_output_onnx[\"inference_results\"][0][\"output\"][0][\"data\"]\n",
    "\n",
    "# Now we can check if there's any significant difference between two outputs\n",
    "\n",
    "print(np.testing.assert_allclose(data_torch, data_onnx, rtol=1e-03, atol=1e-05))"
   ]
  },
  {
   "cell_type": "code",
   "execution_count": null,
   "id": "43b5ab3c",
   "metadata": {},
   "outputs": [],
   "source": [
    "pre_trained_model = SentenceTransformer(model_id)\n",
    "original_embedding_data = list(\n",
    "        pre_trained_model.encode(TEST_SENTENCES, convert_to_numpy=True)\n",
    "    )\n",
    "for i in range(len(TEST_SENTENCES)):\n",
    "        try:\n",
    "            np.testing.assert_allclose(\n",
    "                original_embedding_data[i],\n",
    "                tracing_embedding_data[i],\n",
    "                rtol=RTOL_TEST,\n",
    "                atol=ATOL_TEST,\n",
    "            )\n",
    "        except Exception as e:\n",
    "            failed_cases.append((TEST_SENTENCES[i], e))"
   ]
  }
 ],
 "metadata": {
  "kernelspec": {
   "display_name": "Python 3 (ipykernel)",
   "language": "python",
   "name": "python3"
  },
  "language_info": {
   "codemirror_mode": {
    "name": "ipython",
    "version": 3
   },
   "file_extension": ".py",
   "mimetype": "text/x-python",
   "name": "python",
   "nbconvert_exporter": "python",
   "pygments_lexer": "ipython3",
   "version": "3.11.4"
  }
 },
 "nbformat": 4,
 "nbformat_minor": 5
}

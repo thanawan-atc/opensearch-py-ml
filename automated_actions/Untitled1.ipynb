{
 "cells": [
  {
   "cell_type": "code",
   "execution_count": 3,
   "id": "7e328038",
   "metadata": {},
   "outputs": [
    {
     "name": "stdout",
     "output_type": "stream",
     "text": [
      "Traceback (most recent call last):\r\n",
      "  File \"auto_script.py\", line 3, in <module>\r\n",
      "    import opensearchpy\r\n",
      "ModuleNotFoundError: No module named 'opensearchpy'\r\n"
     ]
    }
   ],
   "source": [
    "import opensearchpy\n",
    "!python3 auto_script.py sentence-transformers/msmarco-distilbert-base-tas-b"
   ]
  },
  {
   "cell_type": "code",
   "execution_count": null,
   "id": "3f86337c",
   "metadata": {},
   "outputs": [],
   "source": []
  }
 ],
 "metadata": {
  "kernelspec": {
   "display_name": "Python 3 (ipykernel)",
   "language": "python",
   "name": "python3"
  },
  "language_info": {
   "codemirror_mode": {
    "name": "ipython",
    "version": 3
   },
   "file_extension": ".py",
   "mimetype": "text/x-python",
   "name": "python",
   "nbconvert_exporter": "python",
   "pygments_lexer": "ipython3",
   "version": "3.8.17"
  }
 },
 "nbformat": 4,
 "nbformat_minor": 5
}
